{
 "cells": [
  {
   "cell_type": "code",
   "execution_count": 65,
   "metadata": {},
   "outputs": [],
   "source": [
    "# Zindi Challenge 2\n",
    "import pandas as pd\n",
    "import numpy as np\n",
    "import matplotlib.pyplot as plt\n",
    "import seaborn as sns\n",
    "sns.set(style='white', color_codes=True)\n",
    "%matplotlib inline"
   ]
  },
  {
   "cell_type": "code",
   "execution_count": 66,
   "metadata": {},
   "outputs": [],
   "source": [
    "data_train = pd.read_csv('train.csv', index_col=0)\n",
    "data_test = pd.read_csv('Test.csv', index_col=0)\n",
    "data_unlinked_transact = pd.read_csv('unlinked_masked_final.csv', index_col=0)"
   ]
  },
  {
   "cell_type": "code",
   "execution_count": 3,
   "metadata": {},
   "outputs": [
    {
     "data": {
      "text/html": [
       "<div>\n",
       "<style scoped>\n",
       "    .dataframe tbody tr th:only-of-type {\n",
       "        vertical-align: middle;\n",
       "    }\n",
       "\n",
       "    .dataframe tbody tr th {\n",
       "        vertical-align: top;\n",
       "    }\n",
       "\n",
       "    .dataframe thead th {\n",
       "        text-align: right;\n",
       "    }\n",
       "</style>\n",
       "<table border=\"1\" class=\"dataframe\">\n",
       "  <thead>\n",
       "    <tr style=\"text-align: right;\">\n",
       "      <th></th>\n",
       "      <th>TransactionStartTime</th>\n",
       "      <th>Value</th>\n",
       "      <th>Amount</th>\n",
       "      <th>TransactionId</th>\n",
       "      <th>BatchId</th>\n",
       "      <th>SubscriptionId</th>\n",
       "      <th>CurrencyCode</th>\n",
       "      <th>CountryCode</th>\n",
       "      <th>ProviderId</th>\n",
       "      <th>ProductId</th>\n",
       "      <th>...</th>\n",
       "      <th>LoanId</th>\n",
       "      <th>PaidOnDate</th>\n",
       "      <th>IsFinalPayBack</th>\n",
       "      <th>InvestorId</th>\n",
       "      <th>DueDate</th>\n",
       "      <th>LoanApplicationId</th>\n",
       "      <th>PayBackId</th>\n",
       "      <th>ThirdPartyId</th>\n",
       "      <th>IsThirdPartyConfirmed</th>\n",
       "      <th>IsDefaulted</th>\n",
       "    </tr>\n",
       "    <tr>\n",
       "      <th>CustomerId</th>\n",
       "      <th></th>\n",
       "      <th></th>\n",
       "      <th></th>\n",
       "      <th></th>\n",
       "      <th></th>\n",
       "      <th></th>\n",
       "      <th></th>\n",
       "      <th></th>\n",
       "      <th></th>\n",
       "      <th></th>\n",
       "      <th></th>\n",
       "      <th></th>\n",
       "      <th></th>\n",
       "      <th></th>\n",
       "      <th></th>\n",
       "      <th></th>\n",
       "      <th></th>\n",
       "      <th></th>\n",
       "      <th></th>\n",
       "      <th></th>\n",
       "      <th></th>\n",
       "    </tr>\n",
       "  </thead>\n",
       "  <tbody>\n",
       "    <tr>\n",
       "      <th>CustomerId_27</th>\n",
       "      <td>2018-09-21 12:17:39</td>\n",
       "      <td>550.0</td>\n",
       "      <td>-550.0</td>\n",
       "      <td>TransactionId_1683</td>\n",
       "      <td>BatchId_641</td>\n",
       "      <td>SubscriptionId_2</td>\n",
       "      <td>UGX</td>\n",
       "      <td>256</td>\n",
       "      <td>ProviderId_1</td>\n",
       "      <td>ProductId_7</td>\n",
       "      <td>...</td>\n",
       "      <td>NaN</td>\n",
       "      <td>NaN</td>\n",
       "      <td>NaN</td>\n",
       "      <td>NaN</td>\n",
       "      <td>NaN</td>\n",
       "      <td>NaN</td>\n",
       "      <td>NaN</td>\n",
       "      <td>NaN</td>\n",
       "      <td>NaN</td>\n",
       "      <td>NaN</td>\n",
       "    </tr>\n",
       "    <tr>\n",
       "      <th>CustomerId_27</th>\n",
       "      <td>2018-09-25 09:20:29</td>\n",
       "      <td>550.0</td>\n",
       "      <td>-550.0</td>\n",
       "      <td>TransactionId_2235</td>\n",
       "      <td>BatchId_820</td>\n",
       "      <td>SubscriptionId_2</td>\n",
       "      <td>UGX</td>\n",
       "      <td>256</td>\n",
       "      <td>ProviderId_1</td>\n",
       "      <td>ProductId_7</td>\n",
       "      <td>...</td>\n",
       "      <td>NaN</td>\n",
       "      <td>NaN</td>\n",
       "      <td>NaN</td>\n",
       "      <td>NaN</td>\n",
       "      <td>NaN</td>\n",
       "      <td>NaN</td>\n",
       "      <td>NaN</td>\n",
       "      <td>NaN</td>\n",
       "      <td>NaN</td>\n",
       "      <td>NaN</td>\n",
       "    </tr>\n",
       "    <tr>\n",
       "      <th>CustomerId_27</th>\n",
       "      <td>2018-09-25 10:33:31</td>\n",
       "      <td>550.0</td>\n",
       "      <td>-550.0</td>\n",
       "      <td>TransactionId_1053</td>\n",
       "      <td>BatchId_210</td>\n",
       "      <td>SubscriptionId_4</td>\n",
       "      <td>UGX</td>\n",
       "      <td>256</td>\n",
       "      <td>ProviderId_1</td>\n",
       "      <td>ProductId_7</td>\n",
       "      <td>...</td>\n",
       "      <td>NaN</td>\n",
       "      <td>NaN</td>\n",
       "      <td>NaN</td>\n",
       "      <td>NaN</td>\n",
       "      <td>NaN</td>\n",
       "      <td>NaN</td>\n",
       "      <td>NaN</td>\n",
       "      <td>NaN</td>\n",
       "      <td>NaN</td>\n",
       "      <td>NaN</td>\n",
       "    </tr>\n",
       "    <tr>\n",
       "      <th>CustomerId_27</th>\n",
       "      <td>2018-09-27 10:26:41</td>\n",
       "      <td>1000.0</td>\n",
       "      <td>-1000.0</td>\n",
       "      <td>TransactionId_2633</td>\n",
       "      <td>BatchId_876</td>\n",
       "      <td>SubscriptionId_4</td>\n",
       "      <td>UGX</td>\n",
       "      <td>256</td>\n",
       "      <td>ProviderId_1</td>\n",
       "      <td>ProductId_7</td>\n",
       "      <td>...</td>\n",
       "      <td>NaN</td>\n",
       "      <td>NaN</td>\n",
       "      <td>NaN</td>\n",
       "      <td>NaN</td>\n",
       "      <td>NaN</td>\n",
       "      <td>NaN</td>\n",
       "      <td>NaN</td>\n",
       "      <td>NaN</td>\n",
       "      <td>NaN</td>\n",
       "      <td>NaN</td>\n",
       "    </tr>\n",
       "    <tr>\n",
       "      <th>CustomerId_27</th>\n",
       "      <td>2018-09-27 12:44:21</td>\n",
       "      <td>500.0</td>\n",
       "      <td>-500.0</td>\n",
       "      <td>TransactionId_71</td>\n",
       "      <td>BatchId_1362</td>\n",
       "      <td>SubscriptionId_4</td>\n",
       "      <td>UGX</td>\n",
       "      <td>256</td>\n",
       "      <td>ProviderId_1</td>\n",
       "      <td>ProductId_7</td>\n",
       "      <td>...</td>\n",
       "      <td>NaN</td>\n",
       "      <td>NaN</td>\n",
       "      <td>NaN</td>\n",
       "      <td>NaN</td>\n",
       "      <td>NaN</td>\n",
       "      <td>NaN</td>\n",
       "      <td>NaN</td>\n",
       "      <td>NaN</td>\n",
       "      <td>NaN</td>\n",
       "      <td>NaN</td>\n",
       "    </tr>\n",
       "  </tbody>\n",
       "</table>\n",
       "<p>5 rows × 26 columns</p>\n",
       "</div>"
      ],
      "text/plain": [
       "              TransactionStartTime   Value  Amount       TransactionId  \\\n",
       "CustomerId                                                               \n",
       "CustomerId_27  2018-09-21 12:17:39   550.0  -550.0  TransactionId_1683   \n",
       "CustomerId_27  2018-09-25 09:20:29   550.0  -550.0  TransactionId_2235   \n",
       "CustomerId_27  2018-09-25 10:33:31   550.0  -550.0  TransactionId_1053   \n",
       "CustomerId_27  2018-09-27 10:26:41  1000.0 -1000.0  TransactionId_2633   \n",
       "CustomerId_27  2018-09-27 12:44:21   500.0  -500.0    TransactionId_71   \n",
       "\n",
       "                    BatchId    SubscriptionId CurrencyCode  CountryCode  \\\n",
       "CustomerId                                                                \n",
       "CustomerId_27   BatchId_641  SubscriptionId_2          UGX          256   \n",
       "CustomerId_27   BatchId_820  SubscriptionId_2          UGX          256   \n",
       "CustomerId_27   BatchId_210  SubscriptionId_4          UGX          256   \n",
       "CustomerId_27   BatchId_876  SubscriptionId_4          UGX          256   \n",
       "CustomerId_27  BatchId_1362  SubscriptionId_4          UGX          256   \n",
       "\n",
       "                 ProviderId    ProductId  ... LoanId PaidOnDate  \\\n",
       "CustomerId                                ...                     \n",
       "CustomerId_27  ProviderId_1  ProductId_7  ...    NaN        NaN   \n",
       "CustomerId_27  ProviderId_1  ProductId_7  ...    NaN        NaN   \n",
       "CustomerId_27  ProviderId_1  ProductId_7  ...    NaN        NaN   \n",
       "CustomerId_27  ProviderId_1  ProductId_7  ...    NaN        NaN   \n",
       "CustomerId_27  ProviderId_1  ProductId_7  ...    NaN        NaN   \n",
       "\n",
       "               IsFinalPayBack InvestorId  DueDate LoanApplicationId PayBackId  \\\n",
       "CustomerId                                                                      \n",
       "CustomerId_27             NaN        NaN      NaN               NaN       NaN   \n",
       "CustomerId_27             NaN        NaN      NaN               NaN       NaN   \n",
       "CustomerId_27             NaN        NaN      NaN               NaN       NaN   \n",
       "CustomerId_27             NaN        NaN      NaN               NaN       NaN   \n",
       "CustomerId_27             NaN        NaN      NaN               NaN       NaN   \n",
       "\n",
       "              ThirdPartyId  IsThirdPartyConfirmed IsDefaulted  \n",
       "CustomerId                                                     \n",
       "CustomerId_27          NaN                    NaN         NaN  \n",
       "CustomerId_27          NaN                    NaN         NaN  \n",
       "CustomerId_27          NaN                    NaN         NaN  \n",
       "CustomerId_27          NaN                    NaN         NaN  \n",
       "CustomerId_27          NaN                    NaN         NaN  \n",
       "\n",
       "[5 rows x 26 columns]"
      ]
     },
     "execution_count": 3,
     "metadata": {},
     "output_type": "execute_result"
    }
   ],
   "source": [
    "data_train.head()"
   ]
  },
  {
   "cell_type": "code",
   "execution_count": null,
   "metadata": {},
   "outputs": [],
   "source": [
    "We can see that quite a few values are missing from the training data set which has to be fixed\n"
   ]
  },
  {
   "cell_type": "code",
   "execution_count": 67,
   "metadata": {
    "scrolled": true
   },
   "outputs": [
    {
     "data": {
      "text/html": [
       "<div>\n",
       "<style scoped>\n",
       "    .dataframe tbody tr th:only-of-type {\n",
       "        vertical-align: middle;\n",
       "    }\n",
       "\n",
       "    .dataframe tbody tr th {\n",
       "        vertical-align: top;\n",
       "    }\n",
       "\n",
       "    .dataframe thead th {\n",
       "        text-align: right;\n",
       "    }\n",
       "</style>\n",
       "<table border=\"1\" class=\"dataframe\">\n",
       "  <thead>\n",
       "    <tr style=\"text-align: right;\">\n",
       "      <th></th>\n",
       "      <th>TransactionStartTime</th>\n",
       "      <th>Value</th>\n",
       "      <th>Amount</th>\n",
       "      <th>TransactionId</th>\n",
       "      <th>BatchId</th>\n",
       "      <th>SubscriptionId</th>\n",
       "      <th>CurrencyCode</th>\n",
       "      <th>CountryCode</th>\n",
       "      <th>ProviderId</th>\n",
       "      <th>ProductId</th>\n",
       "      <th>ProductCategory</th>\n",
       "      <th>ChannelId</th>\n",
       "      <th>TransactionStatus</th>\n",
       "      <th>IssuedDateLoan</th>\n",
       "      <th>LoanId</th>\n",
       "      <th>InvestorId</th>\n",
       "      <th>LoanApplicationId</th>\n",
       "      <th>ThirdPartyId</th>\n",
       "    </tr>\n",
       "    <tr>\n",
       "      <th>CustomerId</th>\n",
       "      <th></th>\n",
       "      <th></th>\n",
       "      <th></th>\n",
       "      <th></th>\n",
       "      <th></th>\n",
       "      <th></th>\n",
       "      <th></th>\n",
       "      <th></th>\n",
       "      <th></th>\n",
       "      <th></th>\n",
       "      <th></th>\n",
       "      <th></th>\n",
       "      <th></th>\n",
       "      <th></th>\n",
       "      <th></th>\n",
       "      <th></th>\n",
       "      <th></th>\n",
       "      <th></th>\n",
       "    </tr>\n",
       "  </thead>\n",
       "  <tbody>\n",
       "    <tr>\n",
       "      <th>CustomerId_310</th>\n",
       "      <td>2019-03-31 13:33:05</td>\n",
       "      <td>14000.0</td>\n",
       "      <td>-14000.0</td>\n",
       "      <td>TransactionId_925</td>\n",
       "      <td>BatchId_1144</td>\n",
       "      <td>SubscriptionId_7</td>\n",
       "      <td>UGX</td>\n",
       "      <td>256</td>\n",
       "      <td>ProviderId_1</td>\n",
       "      <td>ProductId_7</td>\n",
       "      <td>airtime</td>\n",
       "      <td>ChannelId_1</td>\n",
       "      <td>1</td>\n",
       "      <td>2019-03-31 13:33:04</td>\n",
       "      <td>LoanId_1027</td>\n",
       "      <td>InvestorId_1</td>\n",
       "      <td>LoanApplicationId_825</td>\n",
       "      <td>ThirdPartyId_1175</td>\n",
       "    </tr>\n",
       "    <tr>\n",
       "      <th>CustomerId_243</th>\n",
       "      <td>2019-03-31 15:04:09</td>\n",
       "      <td>1000.0</td>\n",
       "      <td>-1000.0</td>\n",
       "      <td>TransactionId_1080</td>\n",
       "      <td>BatchId_1214</td>\n",
       "      <td>SubscriptionId_7</td>\n",
       "      <td>UGX</td>\n",
       "      <td>256</td>\n",
       "      <td>ProviderId_1</td>\n",
       "      <td>ProductId_8</td>\n",
       "      <td>data_bundles</td>\n",
       "      <td>ChannelId_1</td>\n",
       "      <td>1</td>\n",
       "      <td>2019-03-31 15:04:08</td>\n",
       "      <td>LoanId_768</td>\n",
       "      <td>InvestorId_1</td>\n",
       "      <td>LoanApplicationId_68</td>\n",
       "      <td>ThirdPartyId_604</td>\n",
       "    </tr>\n",
       "    <tr>\n",
       "      <th>CustomerId_142</th>\n",
       "      <td>2019-03-31 17:31:11</td>\n",
       "      <td>2500.0</td>\n",
       "      <td>-2500.0</td>\n",
       "      <td>TransactionId_2315</td>\n",
       "      <td>BatchId_2150</td>\n",
       "      <td>SubscriptionId_7</td>\n",
       "      <td>UGX</td>\n",
       "      <td>256</td>\n",
       "      <td>ProviderId_1</td>\n",
       "      <td>ProductId_7</td>\n",
       "      <td>airtime</td>\n",
       "      <td>ChannelId_1</td>\n",
       "      <td>1</td>\n",
       "      <td>2019-03-31 17:31:09</td>\n",
       "      <td>LoanId_1067</td>\n",
       "      <td>InvestorId_1</td>\n",
       "      <td>LoanApplicationId_1223</td>\n",
       "      <td>ThirdPartyId_1521</td>\n",
       "    </tr>\n",
       "    <tr>\n",
       "      <th>CustomerId_142</th>\n",
       "      <td>2019-03-31 17:32:15</td>\n",
       "      <td>500.0</td>\n",
       "      <td>-500.0</td>\n",
       "      <td>TransactionId_1466</td>\n",
       "      <td>BatchId_1071</td>\n",
       "      <td>SubscriptionId_7</td>\n",
       "      <td>UGX</td>\n",
       "      <td>256</td>\n",
       "      <td>ProviderId_1</td>\n",
       "      <td>ProductId_7</td>\n",
       "      <td>airtime</td>\n",
       "      <td>ChannelId_1</td>\n",
       "      <td>1</td>\n",
       "      <td>2019-03-31 17:32:14</td>\n",
       "      <td>LoanId_202</td>\n",
       "      <td>InvestorId_1</td>\n",
       "      <td>LoanApplicationId_633</td>\n",
       "      <td>ThirdPartyId_406</td>\n",
       "    </tr>\n",
       "    <tr>\n",
       "      <th>CustomerId_142</th>\n",
       "      <td>2019-03-31 17:34:41</td>\n",
       "      <td>1000.0</td>\n",
       "      <td>-1000.0</td>\n",
       "      <td>TransactionId_337</td>\n",
       "      <td>BatchId_2477</td>\n",
       "      <td>SubscriptionId_7</td>\n",
       "      <td>UGX</td>\n",
       "      <td>256</td>\n",
       "      <td>ProviderId_1</td>\n",
       "      <td>ProductId_7</td>\n",
       "      <td>airtime</td>\n",
       "      <td>ChannelId_1</td>\n",
       "      <td>1</td>\n",
       "      <td>2019-03-31 17:34:40</td>\n",
       "      <td>LoanId_533</td>\n",
       "      <td>InvestorId_1</td>\n",
       "      <td>LoanApplicationId_309</td>\n",
       "      <td>ThirdPartyId_302</td>\n",
       "    </tr>\n",
       "  </tbody>\n",
       "</table>\n",
       "</div>"
      ],
      "text/plain": [
       "               TransactionStartTime    Value   Amount       TransactionId  \\\n",
       "CustomerId                                                                  \n",
       "CustomerId_310  2019-03-31 13:33:05  14000.0 -14000.0   TransactionId_925   \n",
       "CustomerId_243  2019-03-31 15:04:09   1000.0  -1000.0  TransactionId_1080   \n",
       "CustomerId_142  2019-03-31 17:31:11   2500.0  -2500.0  TransactionId_2315   \n",
       "CustomerId_142  2019-03-31 17:32:15    500.0   -500.0  TransactionId_1466   \n",
       "CustomerId_142  2019-03-31 17:34:41   1000.0  -1000.0   TransactionId_337   \n",
       "\n",
       "                     BatchId    SubscriptionId CurrencyCode  CountryCode  \\\n",
       "CustomerId                                                                 \n",
       "CustomerId_310  BatchId_1144  SubscriptionId_7          UGX          256   \n",
       "CustomerId_243  BatchId_1214  SubscriptionId_7          UGX          256   \n",
       "CustomerId_142  BatchId_2150  SubscriptionId_7          UGX          256   \n",
       "CustomerId_142  BatchId_1071  SubscriptionId_7          UGX          256   \n",
       "CustomerId_142  BatchId_2477  SubscriptionId_7          UGX          256   \n",
       "\n",
       "                  ProviderId    ProductId ProductCategory    ChannelId  \\\n",
       "CustomerId                                                               \n",
       "CustomerId_310  ProviderId_1  ProductId_7         airtime  ChannelId_1   \n",
       "CustomerId_243  ProviderId_1  ProductId_8    data_bundles  ChannelId_1   \n",
       "CustomerId_142  ProviderId_1  ProductId_7         airtime  ChannelId_1   \n",
       "CustomerId_142  ProviderId_1  ProductId_7         airtime  ChannelId_1   \n",
       "CustomerId_142  ProviderId_1  ProductId_7         airtime  ChannelId_1   \n",
       "\n",
       "                TransactionStatus       IssuedDateLoan       LoanId  \\\n",
       "CustomerId                                                            \n",
       "CustomerId_310                  1  2019-03-31 13:33:04  LoanId_1027   \n",
       "CustomerId_243                  1  2019-03-31 15:04:08   LoanId_768   \n",
       "CustomerId_142                  1  2019-03-31 17:31:09  LoanId_1067   \n",
       "CustomerId_142                  1  2019-03-31 17:32:14   LoanId_202   \n",
       "CustomerId_142                  1  2019-03-31 17:34:40   LoanId_533   \n",
       "\n",
       "                  InvestorId       LoanApplicationId       ThirdPartyId  \n",
       "CustomerId                                                               \n",
       "CustomerId_310  InvestorId_1   LoanApplicationId_825  ThirdPartyId_1175  \n",
       "CustomerId_243  InvestorId_1    LoanApplicationId_68   ThirdPartyId_604  \n",
       "CustomerId_142  InvestorId_1  LoanApplicationId_1223  ThirdPartyId_1521  \n",
       "CustomerId_142  InvestorId_1   LoanApplicationId_633   ThirdPartyId_406  \n",
       "CustomerId_142  InvestorId_1   LoanApplicationId_309   ThirdPartyId_302  "
      ]
     },
     "execution_count": 67,
     "metadata": {},
     "output_type": "execute_result"
    }
   ],
   "source": [
    "data_test.head()"
   ]
  },
  {
   "cell_type": "code",
   "execution_count": 5,
   "metadata": {},
   "outputs": [
    {
     "data": {
      "text/html": [
       "<div>\n",
       "<style scoped>\n",
       "    .dataframe tbody tr th:only-of-type {\n",
       "        vertical-align: middle;\n",
       "    }\n",
       "\n",
       "    .dataframe tbody tr th {\n",
       "        vertical-align: top;\n",
       "    }\n",
       "\n",
       "    .dataframe thead th {\n",
       "        text-align: right;\n",
       "    }\n",
       "</style>\n",
       "<table border=\"1\" class=\"dataframe\">\n",
       "  <thead>\n",
       "    <tr style=\"text-align: right;\">\n",
       "      <th></th>\n",
       "      <th>BatchId</th>\n",
       "      <th>CustomerId</th>\n",
       "      <th>CurrencyCode</th>\n",
       "      <th>CountryCode</th>\n",
       "      <th>ProviderId</th>\n",
       "      <th>ProductId</th>\n",
       "      <th>ProductCategory</th>\n",
       "      <th>ChannelId</th>\n",
       "      <th>Amount</th>\n",
       "      <th>Value</th>\n",
       "      <th>TransactionStartTime</th>\n",
       "    </tr>\n",
       "    <tr>\n",
       "      <th>TransactionId</th>\n",
       "      <th></th>\n",
       "      <th></th>\n",
       "      <th></th>\n",
       "      <th></th>\n",
       "      <th></th>\n",
       "      <th></th>\n",
       "      <th></th>\n",
       "      <th></th>\n",
       "      <th></th>\n",
       "      <th></th>\n",
       "      <th></th>\n",
       "    </tr>\n",
       "  </thead>\n",
       "  <tbody>\n",
       "    <tr>\n",
       "      <th>TransactionId_18876</th>\n",
       "      <td>BatchId_7899</td>\n",
       "      <td>CustomerId_250</td>\n",
       "      <td>UGX</td>\n",
       "      <td>256</td>\n",
       "      <td>ProviderId_2</td>\n",
       "      <td>ProductId_8</td>\n",
       "      <td>data_bundles</td>\n",
       "      <td>ChannelId_3</td>\n",
       "      <td>2000.0</td>\n",
       "      <td>2000.0</td>\n",
       "      <td>30/6/19 22:57:49</td>\n",
       "    </tr>\n",
       "    <tr>\n",
       "      <th>TransactionId_15089</th>\n",
       "      <td>BatchId_8829</td>\n",
       "      <td>CustomerId_423</td>\n",
       "      <td>UGX</td>\n",
       "      <td>256</td>\n",
       "      <td>ProviderId_5</td>\n",
       "      <td>ProductId_7</td>\n",
       "      <td>airtime</td>\n",
       "      <td>ChannelId_3</td>\n",
       "      <td>800.0</td>\n",
       "      <td>800.0</td>\n",
       "      <td>30/6/19 22:39:11</td>\n",
       "    </tr>\n",
       "    <tr>\n",
       "      <th>TransactionId_9561</th>\n",
       "      <td>BatchId_15250</td>\n",
       "      <td>CustomerId_423</td>\n",
       "      <td>UGX</td>\n",
       "      <td>256</td>\n",
       "      <td>ProviderId_2</td>\n",
       "      <td>ProductId_10</td>\n",
       "      <td>financial_services</td>\n",
       "      <td>ChannelId_3</td>\n",
       "      <td>2000.0</td>\n",
       "      <td>2000.0</td>\n",
       "      <td>30/6/19 22:35:53</td>\n",
       "    </tr>\n",
       "    <tr>\n",
       "      <th>TransactionId_3635</th>\n",
       "      <td>BatchId_14442</td>\n",
       "      <td>CustomerId_316</td>\n",
       "      <td>UGX</td>\n",
       "      <td>256</td>\n",
       "      <td>ProviderId_4</td>\n",
       "      <td>ProductId_3</td>\n",
       "      <td>airtime</td>\n",
       "      <td>ChannelId_3</td>\n",
       "      <td>1000.0</td>\n",
       "      <td>1000.0</td>\n",
       "      <td>30/6/19 19:47:00</td>\n",
       "    </tr>\n",
       "    <tr>\n",
       "      <th>TransactionId_3104</th>\n",
       "      <td>BatchId_5171</td>\n",
       "      <td>CustomerId_193</td>\n",
       "      <td>UGX</td>\n",
       "      <td>256</td>\n",
       "      <td>ProviderId_5</td>\n",
       "      <td>ProductId_1</td>\n",
       "      <td>airtime</td>\n",
       "      <td>ChannelId_3</td>\n",
       "      <td>5000.0</td>\n",
       "      <td>5000.0</td>\n",
       "      <td>30/6/19 19:11:01</td>\n",
       "    </tr>\n",
       "  </tbody>\n",
       "</table>\n",
       "</div>"
      ],
      "text/plain": [
       "                           BatchId      CustomerId CurrencyCode  CountryCode  \\\n",
       "TransactionId                                                                  \n",
       "TransactionId_18876   BatchId_7899  CustomerId_250          UGX          256   \n",
       "TransactionId_15089   BatchId_8829  CustomerId_423          UGX          256   \n",
       "TransactionId_9561   BatchId_15250  CustomerId_423          UGX          256   \n",
       "TransactionId_3635   BatchId_14442  CustomerId_316          UGX          256   \n",
       "TransactionId_3104    BatchId_5171  CustomerId_193          UGX          256   \n",
       "\n",
       "                       ProviderId     ProductId     ProductCategory  \\\n",
       "TransactionId                                                         \n",
       "TransactionId_18876  ProviderId_2   ProductId_8        data_bundles   \n",
       "TransactionId_15089  ProviderId_5   ProductId_7             airtime   \n",
       "TransactionId_9561   ProviderId_2  ProductId_10  financial_services   \n",
       "TransactionId_3635   ProviderId_4   ProductId_3             airtime   \n",
       "TransactionId_3104   ProviderId_5   ProductId_1             airtime   \n",
       "\n",
       "                       ChannelId  Amount   Value TransactionStartTime  \n",
       "TransactionId                                                          \n",
       "TransactionId_18876  ChannelId_3  2000.0  2000.0     30/6/19 22:57:49  \n",
       "TransactionId_15089  ChannelId_3   800.0   800.0     30/6/19 22:39:11  \n",
       "TransactionId_9561   ChannelId_3  2000.0  2000.0     30/6/19 22:35:53  \n",
       "TransactionId_3635   ChannelId_3  1000.0  1000.0     30/6/19 19:47:00  \n",
       "TransactionId_3104   ChannelId_3  5000.0  5000.0     30/6/19 19:11:01  "
      ]
     },
     "execution_count": 5,
     "metadata": {},
     "output_type": "execute_result"
    }
   ],
   "source": [
    "data_unlinked_transact.head()"
   ]
  },
  {
   "cell_type": "code",
   "execution_count": 68,
   "metadata": {},
   "outputs": [],
   "source": [
    "data_train_overall = pd.merge(data_train, data_unlinked_transact, how='left', on='CustomerId')\n"
   ]
  },
  {
   "cell_type": "code",
   "execution_count": 69,
   "metadata": {},
   "outputs": [
    {
     "name": "stdout",
     "output_type": "stream",
     "text": [
      "<class 'pandas.core.frame.DataFrame'>\n",
      "Int64Index: 130512 entries, 0 to 130511\n",
      "Data columns (total 37 columns):\n",
      "CustomerId                130512 non-null object\n",
      "TransactionStartTime_x    130512 non-null object\n",
      "Value_x                   130512 non-null float64\n",
      "Amount_x                  130512 non-null float64\n",
      "TransactionId             130512 non-null object\n",
      "BatchId_x                 130512 non-null object\n",
      "SubscriptionId            130512 non-null object\n",
      "CurrencyCode_x            130512 non-null object\n",
      "CountryCode_x             130512 non-null int64\n",
      "ProviderId_x              130512 non-null object\n",
      "ProductId_x               130512 non-null object\n",
      "ProductCategory_x         130512 non-null object\n",
      "ChannelId_x               130512 non-null object\n",
      "TransactionStatus         130512 non-null int64\n",
      "IssuedDateLoan            118509 non-null object\n",
      "AmountLoan                118509 non-null float64\n",
      "Currency                  118509 non-null object\n",
      "LoanId                    118509 non-null object\n",
      "PaidOnDate                118509 non-null object\n",
      "IsFinalPayBack            118509 non-null float64\n",
      "InvestorId                118509 non-null object\n",
      "DueDate                   118319 non-null object\n",
      "LoanApplicationId         118120 non-null object\n",
      "PayBackId                 118509 non-null object\n",
      "ThirdPartyId              118507 non-null object\n",
      "IsThirdPartyConfirmed     118509 non-null float64\n",
      "IsDefaulted               118509 non-null float64\n",
      "BatchId_y                 130060 non-null object\n",
      "CurrencyCode_y            130060 non-null object\n",
      "CountryCode_y             130060 non-null float64\n",
      "ProviderId_y              130060 non-null object\n",
      "ProductId_y               130060 non-null object\n",
      "ProductCategory_y         130060 non-null object\n",
      "ChannelId_y               130060 non-null object\n",
      "Amount_y                  130060 non-null float64\n",
      "Value_y                   130060 non-null float64\n",
      "TransactionStartTime_y    130060 non-null object\n",
      "dtypes: float64(9), int64(2), object(26)\n",
      "memory usage: 37.8+ MB\n"
     ]
    }
   ],
   "source": [
    "data_train_overall.info()"
   ]
  },
  {
   "cell_type": "markdown",
   "metadata": {},
   "source": [
    "It can be seen that the number of entries is not uniform acrross all columns in the dataset. Data cleaning can be used to fix the dataset. The data has integers , float and object value types. Xente received 118120 loan applications"
   ]
  },
  {
   "cell_type": "markdown",
   "metadata": {},
   "source": [
    "Data Exploration & Visualization "
   ]
  },
  {
   "cell_type": "code",
   "execution_count": 10,
   "metadata": {},
   "outputs": [
    {
     "name": "stdout",
     "output_type": "stream",
     "text": [
      "(130512, 37)\n"
     ]
    }
   ],
   "source": [
    "print(data_train_overall.shape)"
   ]
  },
  {
   "cell_type": "code",
   "execution_count": null,
   "metadata": {},
   "outputs": [],
   "source": [
    "The training data has 130512 observations and 37 characteristics\n"
   ]
  },
  {
   "cell_type": "code",
   "execution_count": 8,
   "metadata": {},
   "outputs": [
    {
     "data": {
      "text/html": [
       "<div>\n",
       "<style scoped>\n",
       "    .dataframe tbody tr th:only-of-type {\n",
       "        vertical-align: middle;\n",
       "    }\n",
       "\n",
       "    .dataframe tbody tr th {\n",
       "        vertical-align: top;\n",
       "    }\n",
       "\n",
       "    .dataframe thead th {\n",
       "        text-align: right;\n",
       "    }\n",
       "</style>\n",
       "<table border=\"1\" class=\"dataframe\">\n",
       "  <thead>\n",
       "    <tr style=\"text-align: right;\">\n",
       "      <th></th>\n",
       "      <th>Value_x</th>\n",
       "      <th>Amount_x</th>\n",
       "      <th>CountryCode_x</th>\n",
       "      <th>TransactionStatus</th>\n",
       "      <th>AmountLoan</th>\n",
       "      <th>IsFinalPayBack</th>\n",
       "      <th>IsThirdPartyConfirmed</th>\n",
       "      <th>IsDefaulted</th>\n",
       "      <th>CountryCode_y</th>\n",
       "      <th>Amount_y</th>\n",
       "      <th>Value_y</th>\n",
       "    </tr>\n",
       "  </thead>\n",
       "  <tbody>\n",
       "    <tr>\n",
       "      <th>count</th>\n",
       "      <td>1.305120e+05</td>\n",
       "      <td>1.305120e+05</td>\n",
       "      <td>130512.0</td>\n",
       "      <td>130512.000000</td>\n",
       "      <td>1.185090e+05</td>\n",
       "      <td>118509.000000</td>\n",
       "      <td>118509.000000</td>\n",
       "      <td>118509.000000</td>\n",
       "      <td>130060.0</td>\n",
       "      <td>130060.000000</td>\n",
       "      <td>130060.000000</td>\n",
       "    </tr>\n",
       "    <tr>\n",
       "      <th>mean</th>\n",
       "      <td>1.063629e+04</td>\n",
       "      <td>-1.056233e+04</td>\n",
       "      <td>256.0</td>\n",
       "      <td>0.908031</td>\n",
       "      <td>5.547940e+03</td>\n",
       "      <td>0.871470</td>\n",
       "      <td>0.983529</td>\n",
       "      <td>0.009248</td>\n",
       "      <td>256.0</td>\n",
       "      <td>5686.760288</td>\n",
       "      <td>5748.743272</td>\n",
       "    </tr>\n",
       "    <tr>\n",
       "      <th>std</th>\n",
       "      <td>1.139183e+05</td>\n",
       "      <td>1.139038e+05</td>\n",
       "      <td>0.0</td>\n",
       "      <td>0.288983</td>\n",
       "      <td>6.492461e+04</td>\n",
       "      <td>0.334681</td>\n",
       "      <td>0.127280</td>\n",
       "      <td>0.095722</td>\n",
       "      <td>0.0</td>\n",
       "      <td>15855.154179</td>\n",
       "      <td>16007.044574</td>\n",
       "    </tr>\n",
       "    <tr>\n",
       "      <th>min</th>\n",
       "      <td>1.000000e+02</td>\n",
       "      <td>-2.500000e+06</td>\n",
       "      <td>256.0</td>\n",
       "      <td>0.000000</td>\n",
       "      <td>5.000000e+01</td>\n",
       "      <td>0.000000</td>\n",
       "      <td>0.000000</td>\n",
       "      <td>0.000000</td>\n",
       "      <td>256.0</td>\n",
       "      <td>50.000000</td>\n",
       "      <td>50.000000</td>\n",
       "    </tr>\n",
       "    <tr>\n",
       "      <th>25%</th>\n",
       "      <td>1.000000e+03</td>\n",
       "      <td>-5.000000e+03</td>\n",
       "      <td>256.0</td>\n",
       "      <td>1.000000</td>\n",
       "      <td>1.050000e+03</td>\n",
       "      <td>1.000000</td>\n",
       "      <td>1.000000</td>\n",
       "      <td>0.000000</td>\n",
       "      <td>256.0</td>\n",
       "      <td>1000.000000</td>\n",
       "      <td>1000.000000</td>\n",
       "    </tr>\n",
       "    <tr>\n",
       "      <th>50%</th>\n",
       "      <td>2.000000e+03</td>\n",
       "      <td>-2.000000e+03</td>\n",
       "      <td>256.0</td>\n",
       "      <td>1.000000</td>\n",
       "      <td>1.687000e+03</td>\n",
       "      <td>1.000000</td>\n",
       "      <td>1.000000</td>\n",
       "      <td>0.000000</td>\n",
       "      <td>256.0</td>\n",
       "      <td>1750.000000</td>\n",
       "      <td>1750.000000</td>\n",
       "    </tr>\n",
       "    <tr>\n",
       "      <th>75%</th>\n",
       "      <td>5.000000e+03</td>\n",
       "      <td>-1.000000e+03</td>\n",
       "      <td>256.0</td>\n",
       "      <td>1.000000</td>\n",
       "      <td>5.000000e+03</td>\n",
       "      <td>1.000000</td>\n",
       "      <td>1.000000</td>\n",
       "      <td>0.000000</td>\n",
       "      <td>256.0</td>\n",
       "      <td>5000.000000</td>\n",
       "      <td>5000.000000</td>\n",
       "    </tr>\n",
       "    <tr>\n",
       "      <th>max</th>\n",
       "      <td>2.500000e+06</td>\n",
       "      <td>-1.000000e+02</td>\n",
       "      <td>256.0</td>\n",
       "      <td>1.000000</td>\n",
       "      <td>2.760000e+06</td>\n",
       "      <td>1.000000</td>\n",
       "      <td>1.000000</td>\n",
       "      <td>1.000000</td>\n",
       "      <td>256.0</td>\n",
       "      <td>1000000.000000</td>\n",
       "      <td>1000000.000000</td>\n",
       "    </tr>\n",
       "  </tbody>\n",
       "</table>\n",
       "</div>"
      ],
      "text/plain": [
       "            Value_x      Amount_x  CountryCode_x  TransactionStatus  \\\n",
       "count  1.305120e+05  1.305120e+05       130512.0      130512.000000   \n",
       "mean   1.063629e+04 -1.056233e+04          256.0           0.908031   \n",
       "std    1.139183e+05  1.139038e+05            0.0           0.288983   \n",
       "min    1.000000e+02 -2.500000e+06          256.0           0.000000   \n",
       "25%    1.000000e+03 -5.000000e+03          256.0           1.000000   \n",
       "50%    2.000000e+03 -2.000000e+03          256.0           1.000000   \n",
       "75%    5.000000e+03 -1.000000e+03          256.0           1.000000   \n",
       "max    2.500000e+06 -1.000000e+02          256.0           1.000000   \n",
       "\n",
       "         AmountLoan  IsFinalPayBack  IsThirdPartyConfirmed    IsDefaulted  \\\n",
       "count  1.185090e+05   118509.000000          118509.000000  118509.000000   \n",
       "mean   5.547940e+03        0.871470               0.983529       0.009248   \n",
       "std    6.492461e+04        0.334681               0.127280       0.095722   \n",
       "min    5.000000e+01        0.000000               0.000000       0.000000   \n",
       "25%    1.050000e+03        1.000000               1.000000       0.000000   \n",
       "50%    1.687000e+03        1.000000               1.000000       0.000000   \n",
       "75%    5.000000e+03        1.000000               1.000000       0.000000   \n",
       "max    2.760000e+06        1.000000               1.000000       1.000000   \n",
       "\n",
       "       CountryCode_y        Amount_y         Value_y  \n",
       "count       130060.0   130060.000000   130060.000000  \n",
       "mean           256.0     5686.760288     5748.743272  \n",
       "std              0.0    15855.154179    16007.044574  \n",
       "min            256.0       50.000000       50.000000  \n",
       "25%            256.0     1000.000000     1000.000000  \n",
       "50%            256.0     1750.000000     1750.000000  \n",
       "75%            256.0     5000.000000     5000.000000  \n",
       "max            256.0  1000000.000000  1000000.000000  "
      ]
     },
     "execution_count": 8,
     "metadata": {},
     "output_type": "execute_result"
    }
   ],
   "source": [
    "data_train_overall.describe()"
   ]
  },
  {
   "cell_type": "code",
   "execution_count": 9,
   "metadata": {},
   "outputs": [
    {
     "data": {
      "text/plain": [
       "Index(['CustomerId', 'TransactionStartTime_x', 'Value_x', 'Amount_x',\n",
       "       'TransactionId', 'BatchId_x', 'SubscriptionId', 'CurrencyCode_x',\n",
       "       'CountryCode_x', 'ProviderId_x', 'ProductId_x', 'ProductCategory_x',\n",
       "       'ChannelId_x', 'TransactionStatus', 'IssuedDateLoan', 'AmountLoan',\n",
       "       'Currency', 'LoanId', 'PaidOnDate', 'IsFinalPayBack', 'InvestorId',\n",
       "       'DueDate', 'LoanApplicationId', 'PayBackId', 'ThirdPartyId',\n",
       "       'IsThirdPartyConfirmed', 'IsDefaulted', 'BatchId_y', 'CurrencyCode_y',\n",
       "       'CountryCode_y', 'ProviderId_y', 'ProductId_y', 'ProductCategory_y',\n",
       "       'ChannelId_y', 'Amount_y', 'Value_y', 'TransactionStartTime_y'],\n",
       "      dtype='object')"
      ]
     },
     "execution_count": 9,
     "metadata": {},
     "output_type": "execute_result"
    }
   ],
   "source": [
    "data_train_overall.columns"
   ]
  },
  {
   "cell_type": "markdown",
   "metadata": {},
   "source": [
    "Data cleaning"
   ]
  },
  {
   "cell_type": "code",
   "execution_count": 11,
   "metadata": {},
   "outputs": [
    {
     "data": {
      "text/plain": [
       "CustomerId                    0\n",
       "TransactionStartTime_x        0\n",
       "Value_x                       0\n",
       "Amount_x                      0\n",
       "TransactionId                 0\n",
       "BatchId_x                     0\n",
       "SubscriptionId                0\n",
       "CurrencyCode_x                0\n",
       "CountryCode_x                 0\n",
       "ProviderId_x                  0\n",
       "ProductId_x                   0\n",
       "ProductCategory_x             0\n",
       "ChannelId_x                   0\n",
       "TransactionStatus             0\n",
       "IssuedDateLoan            12003\n",
       "AmountLoan                12003\n",
       "Currency                  12003\n",
       "LoanId                    12003\n",
       "PaidOnDate                12003\n",
       "IsFinalPayBack            12003\n",
       "InvestorId                12003\n",
       "DueDate                   12193\n",
       "LoanApplicationId         12392\n",
       "PayBackId                 12003\n",
       "ThirdPartyId              12005\n",
       "IsThirdPartyConfirmed     12003\n",
       "IsDefaulted               12003\n",
       "BatchId_y                   452\n",
       "CurrencyCode_y              452\n",
       "CountryCode_y               452\n",
       "ProviderId_y                452\n",
       "ProductId_y                 452\n",
       "ProductCategory_y           452\n",
       "ChannelId_y                 452\n",
       "Amount_y                    452\n",
       "Value_y                     452\n",
       "TransactionStartTime_y      452\n",
       "dtype: int64"
      ]
     },
     "execution_count": 11,
     "metadata": {},
     "output_type": "execute_result"
    }
   ],
   "source": [
    "data_train_overall.apply(lambda x: sum(x.isnull()))"
   ]
  },
  {
   "cell_type": "markdown",
   "metadata": {},
   "source": [
    "Note that the IsDefaulted column is the target variable column and we have missing values in the train set. Most variables need some imputing of missing values."
   ]
  },
  {
   "cell_type": "code",
   "execution_count": null,
   "metadata": {},
   "outputs": [],
   "source": []
  },
  {
   "cell_type": "code",
   "execution_count": 12,
   "metadata": {},
   "outputs": [
    {
     "data": {
      "text/plain": [
       "CustomerId                  421\n",
       "TransactionStartTime_x     1760\n",
       "Value_x                      98\n",
       "Amount_x                     77\n",
       "TransactionId              1758\n",
       "BatchId_x                  1713\n",
       "SubscriptionId                6\n",
       "CurrencyCode_x                1\n",
       "CountryCode_x                 1\n",
       "ProviderId_x                  1\n",
       "ProductId_x                  16\n",
       "ProductCategory_x             7\n",
       "ChannelId_x                   1\n",
       "TransactionStatus             2\n",
       "IssuedDateLoan             1160\n",
       "AmountLoan                  648\n",
       "Currency                      2\n",
       "LoanId                     1160\n",
       "PaidOnDate                 1485\n",
       "IsFinalPayBack                3\n",
       "InvestorId                    4\n",
       "DueDate                    1156\n",
       "LoanApplicationId          1157\n",
       "PayBackId                  1486\n",
       "ThirdPartyId               1482\n",
       "IsThirdPartyConfirmed         3\n",
       "IsDefaulted                   3\n",
       "BatchId_y                 13036\n",
       "CurrencyCode_y                2\n",
       "CountryCode_y                 2\n",
       "ProviderId_y                  5\n",
       "ProductId_y                  23\n",
       "ProductCategory_y             8\n",
       "ChannelId_y                   4\n",
       "Amount_y                    404\n",
       "Value_y                     460\n",
       "TransactionStartTime_y    13044\n",
       "dtype: int64"
      ]
     },
     "execution_count": 12,
     "metadata": {},
     "output_type": "execute_result"
    }
   ],
   "source": [
    "data_train_overall.apply(lambda x: len(x.unique()))"
   ]
  },
  {
   "cell_type": "markdown",
   "metadata": {},
   "source": [
    "Looking at the dataset reveals there are features with single values which doesnot contain any information for modelling and can badly affect the learning process. The target variable shows there are 3 types of values for the target variables which should be remediated since it is a binary variable. We can expect other variables to also contain missing values. We can further explore the frequency of different categories as follows:\n"
   ]
  },
  {
   "cell_type": "code",
   "execution_count": null,
   "metadata": {},
   "outputs": [],
   "source": [
    "data_train_overall.to_csv()"
   ]
  },
  {
   "cell_type": "code",
   "execution_count": 70,
   "metadata": {
    "scrolled": true
   },
   "outputs": [
    {
     "name": "stdout",
     "output_type": "stream",
     "text": [
      "['CurrencyCode_x', 'CountryCode_x', 'ProviderId_x', 'ChannelId_x', 'Currency', 'CurrencyCode_y', 'CountryCode_y']\n",
      "(130512, 30)\n",
      "(130512, 18)\n"
     ]
    }
   ],
   "source": [
    "# get number of unique values for each column\n",
    "counts = data_train_overall.nunique()\n",
    "counts1 = data_train_overall.columns\n",
    "# record columns to delete\n",
    "#to_del = [i for i,v in enumerate(counts) if v == 1]\n",
    "to_del = [counts1[i] for i,v in enumerate(counts) if v == 1]\n",
    "to_del1 = ['CustomerId','TransactionStartTime_x','BatchId_y', 'ProviderId_y','ProductId_y','ProductCategory_y','ChannelId_y','TransactionStartTime_y', 'TransactionId','BatchId_x','SubscriptionId','ProductId_x']\n",
    "print(to_del)\n",
    "# drop useless columns\n",
    "data_train_overall.drop(to_del, axis=1, inplace=True)\n",
    "print(data_train_overall.shape)\n",
    "\n",
    "data_train_overall.drop(to_del1, axis=1, inplace=True)\n",
    "print(data_train_overall.shape)"
   ]
  },
  {
   "cell_type": "code",
   "execution_count": 72,
   "metadata": {},
   "outputs": [],
   "source": [
    "data_train_overall.head()\n",
    "features_all = data_train_overall.columns\n"
   ]
  },
  {
   "cell_type": "code",
   "execution_count": 53,
   "metadata": {},
   "outputs": [
    {
     "name": "stdout",
     "output_type": "stream",
     "text": [
      "Value_x                  0.000000\n",
      "Amount_x                 0.000000\n",
      "ProductCategory_x        0.000000\n",
      "TransactionStatus        0.000000\n",
      "IssuedDateLoan           9.196855\n",
      "AmountLoan               9.196855\n",
      "LoanId                   9.196855\n",
      "PaidOnDate               9.196855\n",
      "IsFinalPayBack           9.196855\n",
      "InvestorId               9.196855\n",
      "DueDate                  9.342436\n",
      "LoanApplicationId        9.494912\n",
      "PayBackId                9.196855\n",
      "ThirdPartyId             9.198388\n",
      "IsThirdPartyConfirmed    9.196855\n",
      "IsDefaulted              9.196855\n",
      "Amount_y                 0.346328\n",
      "Value_y                  0.346328\n",
      "dtype: float64\n",
      "Value_x                  0.000000\n",
      "Amount_x                 0.000000\n",
      "ProductCategory_x        0.000000\n",
      "TransactionStatus        0.000000\n",
      "IssuedDateLoan           9.196855\n",
      "AmountLoan               9.196855\n",
      "LoanId                   9.196855\n",
      "PaidOnDate               9.196855\n",
      "IsFinalPayBack           9.196855\n",
      "InvestorId               9.196855\n",
      "DueDate                  9.342436\n",
      "LoanApplicationId        9.494912\n",
      "PayBackId                9.196855\n",
      "ThirdPartyId             9.198388\n",
      "IsThirdPartyConfirmed    9.196855\n",
      "IsDefaulted              9.196855\n",
      "Amount_y                 0.346328\n",
      "Value_y                  0.346328\n",
      "dtype: float64\n",
      "Value_x                  0.000000\n",
      "Amount_x                 0.000000\n",
      "ProductCategory_x        0.000000\n",
      "TransactionStatus        0.000000\n",
      "IssuedDateLoan           9.196855\n",
      "AmountLoan               9.196855\n",
      "LoanId                   9.196855\n",
      "PaidOnDate               9.196855\n",
      "IsFinalPayBack           9.196855\n",
      "InvestorId               9.196855\n",
      "DueDate                  9.342436\n",
      "LoanApplicationId        9.494912\n",
      "PayBackId                9.196855\n",
      "ThirdPartyId             9.198388\n",
      "IsThirdPartyConfirmed    9.196855\n",
      "IsDefaulted              9.196855\n",
      "Amount_y                 0.346328\n",
      "Value_y                  0.346328\n",
      "dtype: float64\n",
      "Value_x                  0.000000\n",
      "Amount_x                 0.000000\n",
      "ProductCategory_x        0.000000\n",
      "TransactionStatus        0.000000\n",
      "IssuedDateLoan           9.196855\n",
      "AmountLoan               9.196855\n",
      "LoanId                   9.196855\n",
      "PaidOnDate               9.196855\n",
      "IsFinalPayBack           9.196855\n",
      "InvestorId               9.196855\n",
      "DueDate                  9.342436\n",
      "LoanApplicationId        9.494912\n",
      "PayBackId                9.196855\n",
      "ThirdPartyId             9.198388\n",
      "IsThirdPartyConfirmed    9.196855\n",
      "IsDefaulted              9.196855\n",
      "Amount_y                 0.346328\n",
      "Value_y                  0.346328\n",
      "dtype: float64\n",
      "Value_x                  0.000000\n",
      "Amount_x                 0.000000\n",
      "ProductCategory_x        0.000000\n",
      "TransactionStatus        0.000000\n",
      "IssuedDateLoan           9.196855\n",
      "AmountLoan               9.196855\n",
      "LoanId                   9.196855\n",
      "PaidOnDate               9.196855\n",
      "IsFinalPayBack           9.196855\n",
      "InvestorId               9.196855\n",
      "DueDate                  9.342436\n",
      "LoanApplicationId        9.494912\n",
      "PayBackId                9.196855\n",
      "ThirdPartyId             9.198388\n",
      "IsThirdPartyConfirmed    9.196855\n",
      "IsDefaulted              9.196855\n",
      "Amount_y                 0.346328\n",
      "Value_y                  0.346328\n",
      "dtype: float64\n",
      "Value_x                  0.000000\n",
      "Amount_x                 0.000000\n",
      "ProductCategory_x        0.000000\n",
      "TransactionStatus        0.000000\n",
      "IssuedDateLoan           9.196855\n",
      "AmountLoan               9.196855\n",
      "LoanId                   9.196855\n",
      "PaidOnDate               9.196855\n",
      "IsFinalPayBack           9.196855\n",
      "InvestorId               9.196855\n",
      "DueDate                  9.342436\n",
      "LoanApplicationId        9.494912\n",
      "PayBackId                9.196855\n",
      "ThirdPartyId             9.198388\n",
      "IsThirdPartyConfirmed    9.196855\n",
      "IsDefaulted              9.196855\n",
      "Amount_y                 0.346328\n",
      "Value_y                  0.346328\n",
      "dtype: float64\n",
      "Value_x                  0.000000\n",
      "Amount_x                 0.000000\n",
      "ProductCategory_x        0.000000\n",
      "TransactionStatus        0.000000\n",
      "IssuedDateLoan           9.196855\n",
      "AmountLoan               9.196855\n",
      "LoanId                   9.196855\n",
      "PaidOnDate               9.196855\n",
      "IsFinalPayBack           9.196855\n",
      "InvestorId               9.196855\n",
      "DueDate                  9.342436\n",
      "LoanApplicationId        9.494912\n",
      "PayBackId                9.196855\n",
      "ThirdPartyId             9.198388\n",
      "IsThirdPartyConfirmed    9.196855\n",
      "IsDefaulted              9.196855\n",
      "Amount_y                 0.346328\n",
      "Value_y                  0.346328\n",
      "dtype: float64\n",
      "Value_x                  0.000000\n",
      "Amount_x                 0.000000\n",
      "ProductCategory_x        0.000000\n",
      "TransactionStatus        0.000000\n",
      "IssuedDateLoan           9.196855\n",
      "AmountLoan               9.196855\n",
      "LoanId                   9.196855\n",
      "PaidOnDate               9.196855\n",
      "IsFinalPayBack           9.196855\n",
      "InvestorId               9.196855\n",
      "DueDate                  9.342436\n",
      "LoanApplicationId        9.494912\n",
      "PayBackId                9.196855\n",
      "ThirdPartyId             9.198388\n",
      "IsThirdPartyConfirmed    9.196855\n",
      "IsDefaulted              9.196855\n",
      "Amount_y                 0.346328\n",
      "Value_y                  0.346328\n",
      "dtype: float64\n",
      "Value_x                  0.000000\n",
      "Amount_x                 0.000000\n",
      "ProductCategory_x        0.000000\n",
      "TransactionStatus        0.000000\n",
      "IssuedDateLoan           9.196855\n",
      "AmountLoan               9.196855\n",
      "LoanId                   9.196855\n",
      "PaidOnDate               9.196855\n",
      "IsFinalPayBack           9.196855\n",
      "InvestorId               9.196855\n",
      "DueDate                  9.342436\n",
      "LoanApplicationId        9.494912\n",
      "PayBackId                9.196855\n",
      "ThirdPartyId             9.198388\n",
      "IsThirdPartyConfirmed    9.196855\n",
      "IsDefaulted              9.196855\n",
      "Amount_y                 0.346328\n",
      "Value_y                  0.346328\n",
      "dtype: float64\n",
      "Value_x                  0.000000\n",
      "Amount_x                 0.000000\n",
      "ProductCategory_x        0.000000\n",
      "TransactionStatus        0.000000\n",
      "IssuedDateLoan           9.196855\n",
      "AmountLoan               9.196855\n",
      "LoanId                   9.196855\n",
      "PaidOnDate               9.196855\n",
      "IsFinalPayBack           9.196855\n",
      "InvestorId               9.196855\n",
      "DueDate                  9.342436\n",
      "LoanApplicationId        9.494912\n",
      "PayBackId                9.196855\n",
      "ThirdPartyId             9.198388\n",
      "IsThirdPartyConfirmed    9.196855\n",
      "IsDefaulted              9.196855\n",
      "Amount_y                 0.346328\n",
      "Value_y                  0.346328\n",
      "dtype: float64\n",
      "Value_x                  0.000000\n",
      "Amount_x                 0.000000\n",
      "ProductCategory_x        0.000000\n",
      "TransactionStatus        0.000000\n",
      "IssuedDateLoan           9.196855\n",
      "AmountLoan               9.196855\n",
      "LoanId                   9.196855\n",
      "PaidOnDate               9.196855\n",
      "IsFinalPayBack           9.196855\n",
      "InvestorId               9.196855\n",
      "DueDate                  9.342436\n",
      "LoanApplicationId        9.494912\n",
      "PayBackId                9.196855\n",
      "ThirdPartyId             9.198388\n",
      "IsThirdPartyConfirmed    9.196855\n",
      "IsDefaulted              9.196855\n",
      "Amount_y                 0.346328\n",
      "Value_y                  0.346328\n",
      "dtype: float64\n",
      "Value_x                  0.000000\n",
      "Amount_x                 0.000000\n",
      "ProductCategory_x        0.000000\n",
      "TransactionStatus        0.000000\n",
      "IssuedDateLoan           9.196855\n",
      "AmountLoan               9.196855\n",
      "LoanId                   9.196855\n",
      "PaidOnDate               9.196855\n",
      "IsFinalPayBack           9.196855\n",
      "InvestorId               9.196855\n",
      "DueDate                  9.342436\n",
      "LoanApplicationId        9.494912\n",
      "PayBackId                9.196855\n",
      "ThirdPartyId             9.198388\n",
      "IsThirdPartyConfirmed    9.196855\n",
      "IsDefaulted              9.196855\n",
      "Amount_y                 0.346328\n",
      "Value_y                  0.346328\n",
      "dtype: float64\n",
      "Value_x                  0.000000\n",
      "Amount_x                 0.000000\n",
      "ProductCategory_x        0.000000\n",
      "TransactionStatus        0.000000\n",
      "IssuedDateLoan           9.196855\n",
      "AmountLoan               9.196855\n",
      "LoanId                   9.196855\n",
      "PaidOnDate               9.196855\n",
      "IsFinalPayBack           9.196855\n",
      "InvestorId               9.196855\n",
      "DueDate                  9.342436\n",
      "LoanApplicationId        9.494912\n",
      "PayBackId                9.196855\n",
      "ThirdPartyId             9.198388\n",
      "IsThirdPartyConfirmed    9.196855\n",
      "IsDefaulted              9.196855\n",
      "Amount_y                 0.346328\n",
      "Value_y                  0.346328\n",
      "dtype: float64\n",
      "Value_x                  0.000000\n",
      "Amount_x                 0.000000\n",
      "ProductCategory_x        0.000000\n",
      "TransactionStatus        0.000000\n",
      "IssuedDateLoan           9.196855\n",
      "AmountLoan               9.196855\n",
      "LoanId                   9.196855\n",
      "PaidOnDate               9.196855\n",
      "IsFinalPayBack           9.196855\n",
      "InvestorId               9.196855\n",
      "DueDate                  9.342436\n",
      "LoanApplicationId        9.494912\n",
      "PayBackId                9.196855\n",
      "ThirdPartyId             9.198388\n",
      "IsThirdPartyConfirmed    9.196855\n",
      "IsDefaulted              9.196855\n",
      "Amount_y                 0.346328\n",
      "Value_y                  0.346328\n",
      "dtype: float64\n"
     ]
    },
    {
     "name": "stdout",
     "output_type": "stream",
     "text": [
      "Value_x                  0.000000\n",
      "Amount_x                 0.000000\n",
      "ProductCategory_x        0.000000\n",
      "TransactionStatus        0.000000\n",
      "IssuedDateLoan           9.196855\n",
      "AmountLoan               9.196855\n",
      "LoanId                   9.196855\n",
      "PaidOnDate               9.196855\n",
      "IsFinalPayBack           9.196855\n",
      "InvestorId               9.196855\n",
      "DueDate                  9.342436\n",
      "LoanApplicationId        9.494912\n",
      "PayBackId                9.196855\n",
      "ThirdPartyId             9.198388\n",
      "IsThirdPartyConfirmed    9.196855\n",
      "IsDefaulted              9.196855\n",
      "Amount_y                 0.346328\n",
      "Value_y                  0.346328\n",
      "dtype: float64\n",
      "Value_x                  0.000000\n",
      "Amount_x                 0.000000\n",
      "ProductCategory_x        0.000000\n",
      "TransactionStatus        0.000000\n",
      "IssuedDateLoan           9.196855\n",
      "AmountLoan               9.196855\n",
      "LoanId                   9.196855\n",
      "PaidOnDate               9.196855\n",
      "IsFinalPayBack           9.196855\n",
      "InvestorId               9.196855\n",
      "DueDate                  9.342436\n",
      "LoanApplicationId        9.494912\n",
      "PayBackId                9.196855\n",
      "ThirdPartyId             9.198388\n",
      "IsThirdPartyConfirmed    9.196855\n",
      "IsDefaulted              9.196855\n",
      "Amount_y                 0.346328\n",
      "Value_y                  0.346328\n",
      "dtype: float64\n",
      "Value_x                  0.000000\n",
      "Amount_x                 0.000000\n",
      "ProductCategory_x        0.000000\n",
      "TransactionStatus        0.000000\n",
      "IssuedDateLoan           9.196855\n",
      "AmountLoan               9.196855\n",
      "LoanId                   9.196855\n",
      "PaidOnDate               9.196855\n",
      "IsFinalPayBack           9.196855\n",
      "InvestorId               9.196855\n",
      "DueDate                  9.342436\n",
      "LoanApplicationId        9.494912\n",
      "PayBackId                9.196855\n",
      "ThirdPartyId             9.198388\n",
      "IsThirdPartyConfirmed    9.196855\n",
      "IsDefaulted              9.196855\n",
      "Amount_y                 0.346328\n",
      "Value_y                  0.346328\n",
      "dtype: float64\n",
      "Value_x                  0.000000\n",
      "Amount_x                 0.000000\n",
      "ProductCategory_x        0.000000\n",
      "TransactionStatus        0.000000\n",
      "IssuedDateLoan           9.196855\n",
      "AmountLoan               9.196855\n",
      "LoanId                   9.196855\n",
      "PaidOnDate               9.196855\n",
      "IsFinalPayBack           9.196855\n",
      "InvestorId               9.196855\n",
      "DueDate                  9.342436\n",
      "LoanApplicationId        9.494912\n",
      "PayBackId                9.196855\n",
      "ThirdPartyId             9.198388\n",
      "IsThirdPartyConfirmed    9.196855\n",
      "IsDefaulted              9.196855\n",
      "Amount_y                 0.346328\n",
      "Value_y                  0.346328\n",
      "dtype: float64\n"
     ]
    }
   ],
   "source": [
    "# summarize the number of rows with missing values for each column\n",
    "for i in range(data_train_overall.shape[1]):\n",
    "\t# count number of rows with missing values\n",
    "\t\t# count number of rows with missing values\n",
    "\tn_miss = data_train_overall.apply(lambda x: sum(x.isnull()))\n",
    "\t#n_miss = data_train_overall.apply(lambda x: x.isnull().sum())\n",
    "\t#n_miss = data_train_overall[[i]].isnull().sum()\n",
    "\tperc = n_miss / data_train_overall.shape[0] * 100\n",
    "\t#print('> %d, Missing: %d (%.1f%%)' % (i, n_miss, perc))\n",
    "\t#print('> %d, Missing:  %d (%.1f%%)' % (i, n_miss[i], perc))\n",
    "\tprint(perc)"
   ]
  },
  {
   "cell_type": "markdown",
   "metadata": {},
   "source": [
    "we can see that some columns have no missing values and other columns have either a few missing variables or at most 10% of missing values. The missing values will be imputed next\n"
   ]
  },
  {
   "cell_type": "code",
   "execution_count": 75,
   "metadata": {
    "scrolled": true
   },
   "outputs": [
    {
     "data": {
      "text/plain": [
       "Value_x                      0\n",
       "Amount_x                     0\n",
       "ProductCategory_x            0\n",
       "TransactionStatus            0\n",
       "IssuedDateLoan           12003\n",
       "AmountLoan               12003\n",
       "LoanId                   12003\n",
       "PaidOnDate               12003\n",
       "IsFinalPayBack           12003\n",
       "InvestorId               12003\n",
       "DueDate                  12193\n",
       "LoanApplicationId        12392\n",
       "PayBackId                12003\n",
       "ThirdPartyId             12005\n",
       "IsThirdPartyConfirmed    12003\n",
       "IsDefaulted              12003\n",
       "Amount_y                   452\n",
       "Value_y                    452\n",
       "dtype: int64"
      ]
     },
     "execution_count": 75,
     "metadata": {},
     "output_type": "execute_result"
    }
   ],
   "source": [
    "data_train_overall.apply(lambda x: sum(x.isnull()))"
   ]
  },
  {
   "cell_type": "code",
   "execution_count": 91,
   "metadata": {},
   "outputs": [
    {
     "data": {
      "text/plain": [
       "Value_x                  0\n",
       "Amount_x                 0\n",
       "ProductCategory_x        0\n",
       "TransactionStatus        0\n",
       "IssuedDateLoan           0\n",
       "AmountLoan               0\n",
       "LoanId                   0\n",
       "PaidOnDate               0\n",
       "IsFinalPayBack           0\n",
       "InvestorId               0\n",
       "DueDate                  0\n",
       "LoanApplicationId        0\n",
       "PayBackId                0\n",
       "ThirdPartyId             0\n",
       "IsThirdPartyConfirmed    0\n",
       "IsDefaulted              0\n",
       "Amount_y                 0\n",
       "Value_y                  0\n",
       "dtype: int64"
      ]
     },
     "execution_count": 91,
     "metadata": {},
     "output_type": "execute_result"
    }
   ],
   "source": [
    "\n",
    "data_train_overall['IssuedDateLoan'].fillna(method='bfill', inplace=True)\n",
    "data_train_overall['AmountLoan'].fillna(method ='ffill', inplace=True)\n",
    "data_train_overall['LoanId'].fillna(method ='bfill', inplace=True)\n",
    "data_train_overall['PaidOnDate'].fillna(method ='bfill', inplace=True)\n",
    "data_train_overall['IsFinalPayBack'].fillna(method ='bfill', inplace=True)\n",
    "data_train_overall['InvestorId'].fillna(method ='bfill', inplace=True)\n",
    "data_train_overall['DueDate'].fillna(method ='bfill', inplace=True)\n",
    "data_train_overall['LoanApplicationId'].fillna(method ='bfill', inplace=True)\n",
    "data_train_overall['PayBackId'].fillna(method ='bfill', inplace=True)\n",
    "data_train_overall['ThirdPartyId'].fillna(method ='bfill', inplace=True)\n",
    "data_train_overall['IsThirdPartyConfirmed'].fillna(method ='bfill', inplace=True)\n",
    "data_train_overall['IsDefaulted'].fillna(method ='ffill', inplace=True)\n",
    "data_train_overall['Value_y'].fillna(data_train_overall['Value_y'].mean(), inplace=True)\n",
    "data_train_overall['Amount_y'].fillna(data_train_overall['Amount_y'].mean(), inplace=True)\n",
    "#\n",
    "# = df_train.drop(columns=\"loannumber\")\n",
    "#df_train = df_train.drop(columns=\"customerid\")\n",
    "data_train_overall.apply(lambda x: sum(x.isnull()),axis=0)"
   ]
  },
  {
   "cell_type": "code",
   "execution_count": null,
   "metadata": {},
   "outputs": [],
   "source": []
  },
  {
   "cell_type": "code",
   "execution_count": 74,
   "metadata": {},
   "outputs": [
    {
     "name": "stdout",
     "output_type": "stream",
     "text": [
      "\n",
      " Frequency of categories for variable ProductCategory_x\n",
      "airtime               99659\n",
      "data_bundles          16759\n",
      "tv                     6425\n",
      "utility_bill           5298\n",
      "retail                 1099\n",
      "movies                  644\n",
      "financial_services      628\n",
      "Name: ProductCategory_x, dtype: int64\n",
      "\n",
      " Frequency of categories for variable InvestorId\n",
      "InvestorId_1    103868\n",
      "InvestorId_2     14059\n",
      "InvestorId_3       582\n",
      "Name: InvestorId, dtype: int64\n"
     ]
    }
   ],
   "source": [
    "categorical_columns = [x for x in data_train_overall.dtypes.index if data_train_overall.dtypes[x]=='object']\n",
    "#categorical_columns = [x for x in categorical_columns if x not in ['IssuedDateLoan','LoanId','categorical_columns = [x for x in data_train_overall.dtypes.index if data_train_overall.dtypes[x]=='object']\n",
    "categorical_columns = [x for x in categorical_columns if x not in ['IssuedDateLoan','LoanId','PaidOnDate','DueDate','LoanApplicationId','PayBackId','ThirdPartyId']]\n",
    "#categorical_columns = [x for x in categorical_columns ]\n",
    "for col in categorical_columns:\n",
    "    print('\\n Frequency of categories for variable %s'%col)\n",
    "    \n",
    "    print(data_train_overall[col].value_counts())"
   ]
  },
  {
   "cell_type": "code",
   "execution_count": 84,
   "metadata": {},
   "outputs": [
    {
     "name": "stdout",
     "output_type": "stream",
     "text": [
      "<class 'pandas.core.frame.DataFrame'>\n",
      "Int64Index: 130512 entries, 0 to 130511\n",
      "Data columns (total 18 columns):\n",
      "Value_x                  130512 non-null float64\n",
      "Amount_x                 130512 non-null float64\n",
      "ProductCategory_x        130512 non-null object\n",
      "TransactionStatus        130512 non-null int64\n",
      "IssuedDateLoan           130512 non-null object\n",
      "AmountLoan               130512 non-null float64\n",
      "LoanId                   130512 non-null object\n",
      "PaidOnDate               130512 non-null object\n",
      "IsFinalPayBack           130512 non-null float64\n",
      "InvestorId               130512 non-null object\n",
      "DueDate                  130512 non-null object\n",
      "LoanApplicationId        130512 non-null object\n",
      "PayBackId                130512 non-null object\n",
      "ThirdPartyId             130512 non-null object\n",
      "IsThirdPartyConfirmed    130512 non-null float64\n",
      "IsDefaulted              130512 non-null float64\n",
      "Amount_y                 130512 non-null float64\n",
      "Value_y                  130512 non-null float64\n",
      "dtypes: float64(8), int64(1), object(9)\n",
      "memory usage: 18.9+ MB\n"
     ]
    }
   ],
   "source": [
    "data_train_overall.info()"
   ]
  },
  {
   "cell_type": "code",
   "execution_count": 92,
   "metadata": {},
   "outputs": [
    {
     "data": {
      "text/plain": [
       "<matplotlib.axes._subplots.AxesSubplot at 0x2a32e40e390>"
      ]
     },
     "execution_count": 92,
     "metadata": {},
     "output_type": "execute_result"
    },
    {
     "data": {
      "image/png": "[encoded data removed]",
      "text/plain": [
       "<Figure size 432x288 with 1 Axes>"
      ]
     },
     "metadata": {
      "needs_background": "light"
     },
     "output_type": "display_data"
    }
   ],
   "source": [
    "%matplotlib inline\n",
    "data_train_overall['IsDefaulted'].hist(bins=50)"
   ]
  },
  {
   "cell_type": "code",
   "execution_count": 95,
   "metadata": {},
   "outputs": [
    {
     "name": "stdout",
     "output_type": "stream",
     "text": [
      "\n",
      " Frequency of categories for variable Value_x\n",
      "\n",
      " Frequency of categories for variable Amount_x\n",
      "\n",
      " Frequency of categories for variable AmountLoan\n",
      "\n",
      " Frequency of categories for variable IsFinalPayBack\n",
      "\n",
      " Frequency of categories for variable IsThirdPartyConfirmed\n",
      "\n",
      " Frequency of categories for variable IsDefaulted\n",
      "\n",
      " Frequency of categories for variable Amount_y\n",
      "\n",
      " Frequency of categories for variable Value_y\n"
     ]
    },
    {
     "data": {
      "image/png": "[encoded data removed]",
      "text/plain": [
       "<Figure size 432x288 with 1 Axes>"
      ]
     },
     "metadata": {
      "needs_background": "light"
     },
     "output_type": "display_data"
    }
   ],
   "source": [
    "categorical_columns = [x for x in data_train_overall.dtypes.index if data_train_overall.dtypes[x]=='float']\n",
    "#categorical_columns = [x for x in categorical_columns if x not in ['IssuedDateLoan','LoanId','categorical_columns = [x for x in data_train_overall.dtypes.index if data_train_overall.dtypes[x]=='object']\n",
    "\n",
    "    \n",
    "       \n",
    "#categorical_columns = [x for x in categorical_columns if x not in ['IssuedDateLoan','LoanId','categorical_columns = [x for x in data_train_overall.dtypes.index if data_train_overall.dtypes[x]=='object']\n",
    "#categorical_columns = [x for x in data_train_overall.dtypes.index if data_train_overall.dtypes['float']\n",
    "#categorical_columns = [x for x in data_train_overall.dtypes.index if data_train_overall.dtypes['float']\n",
    "#categorical_columns = [x for x in categorical_columns if x not in ['IssuedDateLoan','LoanId','categorical_columns = [x for x in data_train_overall.dtypes.index if data_train_overall.dtypes[x]=='object']\n",
    "categorical_columns = [x for x in categorical_columns if x not in ['IssuedDateLoan','LoanId','PaidOnDate','DueDate','LoanApplicationId','PayBackId','ThirdPartyId']]\n",
    "#categorical_columns = [x for x in categorical_columns ]\n",
    "for col in categorical_columns:\n",
    "    print('\\n Frequency of categories for variable %s'%col)\n",
    "    \n",
    "    #print(data_train_overall[col].value_counts())\n",
    "    data_train_overall[col].hist(bins=10)"
   ]
  },
  {
   "cell_type": "code",
   "execution_count": 96,
   "metadata": {},
   "outputs": [
    {
     "name": "stdout",
     "output_type": "stream",
     "text": [
      "\n",
      " Frequency of categories for variable Value_x\n",
      "\n",
      " Frequency of categories for variable Amount_x\n",
      "\n",
      " Frequency of categories for variable AmountLoan\n",
      "\n",
      " Frequency of categories for variable IsFinalPayBack\n",
      "\n",
      " Frequency of categories for variable IsThirdPartyConfirmed\n",
      "\n",
      " Frequency of categories for variable IsDefaulted\n",
      "\n",
      " Frequency of categories for variable Amount_y\n",
      "\n",
      " Frequency of categories for variable Value_y\n"
     ]
    },
    {
     "data": {
      "image/png": "[encoded data removed]",
      "text/plain": [
       "<Figure size 432x288 with 1 Axes>"
      ]
     },
     "metadata": {
      "needs_background": "light"
     },
     "output_type": "display_data"
    }
   ],
   "source": [
    "categorical_columns = [x for x in data_train_overall.dtypes.index if data_train_overall.dtypes[x]=='float']\n",
    "#categorical_columns = [x for x in categorical_columns if x not in ['IssuedDateLoan','LoanId','categorical_columns = [x for x in data_train_overall.dtypes.index if data_train_overall.dtypes[x]=='object']\n",
    "\n",
    "    \n",
    "       \n",
    "#categorical_columns = [x for x in categorical_columns if x not in ['IssuedDateLoan','LoanId','categorical_columns = [x for x in data_train_overall.dtypes.index if data_train_overall.dtypes[x]=='object']\n",
    "#categorical_columns = [x for x in data_train_overall.dtypes.index if data_train_overall.dtypes['float']\n",
    "#categorical_columns = [x for x in data_train_overall.dtypes.index if data_train_overall.dtypes['float']\n",
    "#categorical_columns = [x for x in categorical_columns if x not in ['IssuedDateLoan','LoanId','categorical_columns = [x for x in data_train_overall.dtypes.index if data_train_overall.dtypes[x]=='object']\n",
    "categorical_columns = [x for x in categorical_columns if x not in ['IssuedDateLoan','LoanId','PaidOnDate','DueDate','LoanApplicationId','PayBackId','ThirdPartyId']]\n",
    "#categorical_columns = [x for x in categorical_columns ]\n",
    "for col in categorical_columns:\n",
    "    print('\\n Histograms and Box plot for variable %s'%col)\n",
    "    \n",
    "    #print(data_train_overall[col].value_counts())\n",
    "    data_train_overall[col].hist(bins=10)\n",
    "    data_train_overall.boxplot(column=col)"
   ]
  },
  {
   "cell_type": "code",
   "execution_count": 97,
   "metadata": {},
   "outputs": [
    {
     "data": {
      "text/plain": [
       "<matplotlib.axes._subplots.AxesSubplot at 0x2a32e36d470>"
      ]
     },
     "execution_count": 97,
     "metadata": {},
     "output_type": "execute_result"
    },
    {
     "data": {
      "image/png": "[encoded data removed]",
      "text/plain": [
       "<Figure size 432x288 with 1 Axes>"
      ]
     },
     "metadata": {
      "needs_background": "light"
     },
     "output_type": "display_data"
    }
   ],
   "source": [
    "data_train_overall.boxplot(column='AmountLoan', by ='IsDefaulted')\n"
   ]
  },
  {
   "cell_type": "markdown",
   "metadata": {},
   "source": [
    "From this above figure, we can conclude that high loan amount usually result in defaulting the loan"
   ]
  },
  {
   "cell_type": "code",
   "execution_count": 102,
   "metadata": {},
   "outputs": [
    {
     "data": {
      "text/plain": [
       "<matplotlib.axes._subplots.AxesSubplot at 0x2a32ddc2940>"
      ]
     },
     "execution_count": 102,
     "metadata": {},
     "output_type": "execute_result"
    },
    {
     "data": {
      "image/png": "[encoded data removed]",
      "text/plain": [
       "<Figure size 432x288 with 1 Axes>"
      ]
     },
     "metadata": {
      "needs_background": "light"
     },
     "output_type": "display_data"
    }
   ],
   "source": [
    "data_train_overall.boxplot(column='AmountLoan', by='ProductCategory_x')"
   ]
  },
  {
   "cell_type": "markdown",
   "metadata": {},
   "source": [
    "As it can be seen, most of the loans is spend for groceries at the retail followed by TV, airtime and utility bills"
   ]
  },
  {
   "cell_type": "code",
   "execution_count": 104,
   "metadata": {},
   "outputs": [
    {
     "data": {
      "text/plain": [
       "<matplotlib.axes._subplots.AxesSubplot at 0x2a32df95c88>"
      ]
     },
     "execution_count": 104,
     "metadata": {},
     "output_type": "execute_result"
    },
    {
     "data": {
      "image/png": "[encoded data removed]",
      "text/plain": [
       "<Figure size 432x288 with 1 Axes>"
      ]
     },
     "metadata": {
      "needs_background": "light"
     },
     "output_type": "display_data"
    }
   ],
   "source": [
    "temp3 = pd.crosstab(data_train_overall['ProductCategory_x'], data_train_overall['IsDefaulted'])\n",
    "temp3.plot(kind='bar', stacked=True, color=['red','blue'], grid=False)"
   ]
  },
  {
   "cell_type": "markdown",
   "metadata": {},
   "source": [
    "Here we can see that for most defaulted loans, most of the funds was spent for airtime, data followed by TV and utility bills. Logically, the loan has more chance to not default if the funds are spent on something that can grow the money or give a retun. Based on this, i would recommend the client to grant loan to individuals with steady income or individuals that are planning to put the funds into something profitable"
   ]
  },
  {
   "cell_type": "code",
   "execution_count": 105,
   "metadata": {},
   "outputs": [
    {
     "data": {
      "text/plain": [
       "0.0    129050\n",
       "1.0      1462\n",
       "Name: IsDefaulted, dtype: int64"
      ]
     },
     "execution_count": 105,
     "metadata": {},
     "output_type": "execute_result"
    }
   ],
   "source": [
    "data_train_overall[\"IsDefaulted\"].value_counts()"
   ]
  },
  {
   "cell_type": "markdown",
   "metadata": {},
   "source": [
    "It can be seen that the class is imbalanced with the amount of good loans being way less than that of bad loans. This need to be fixed to avoid errors "
   ]
  },
  {
   "cell_type": "code",
   "execution_count": 107,
   "metadata": {},
   "outputs": [
    {
     "data": {
      "image/png": "[encoded data removed]",
      "text/plain": [
       "<Figure size 348.425x288 with 1 Axes>"
      ]
     },
     "metadata": {},
     "output_type": "display_data"
    }
   ],
   "source": [
    "# 2-D Scatter plot with color-coding for each loan\n",
    "# Here 'sns' corresponds to seaborn.\n",
    "sns.set_style(\"whitegrid\");\n",
    "sns.FacetGrid(data_train_overall, hue=\"IsDefaulted\", height=4) \\\n",
    "   .map(plt.scatter, \"TransactionStatus\", \"AmountLoan\") \\\n",
    "   .add_legend();\n",
    "plt.show()"
   ]
  },
  {
   "cell_type": "markdown",
   "metadata": {},
   "source": [
    "From the figure above it can be seen that most accepted loans that defaulted apllied for larger loan amount than the good loans. we cannot really distinguish good from bad loans. Separating any of the classes from the other is much harder as they have considerable overlap"
   ]
  },
  {
   "cell_type": "markdown",
   "metadata": {},
   "source": [
    "Pairs Plot"
   ]
  },
  {
   "cell_type": "markdown",
   "metadata": {},
   "source": [
    "In order to see both the distribution of columns and the relationships between."
   ]
  },
  {
   "cell_type": "code",
   "execution_count": 112,
   "metadata": {},
   "outputs": [
    {
     "data": {
      "image/png": "[encoded data removed]",
      "text/plain": [
       "<Figure size 420.425x360 with 1 Axes>"
      ]
     },
     "metadata": {},
     "output_type": "display_data"
    }
   ],
   "source": [
    "sns.FacetGrid(dataset_extract, hue=\"IsDefaulted\", height=5)  \\\n",
    "   .map(sns.distplot, \"AmountLoan\")  \\\n",
    "   .add_legend();\n",
    "plt.show();"
   ]
  },
  {
   "cell_type": "code",
   "execution_count": 113,
   "metadata": {},
   "outputs": [
    {
     "data": {
      "image/png": "[encoded data removed]",
      "text/plain": [
       "<Figure size 420.425x360 with 1 Axes>"
      ]
     },
     "metadata": {},
     "output_type": "display_data"
    }
   ],
   "source": [
    "sns.FacetGrid(dataset_extract, hue=\"IsDefaulted\", height=5)  \\\n",
    "   .map(sns.distplot, \"TransactionStatus\")  \\\n",
    "   .add_legend();\n",
    "plt.show();"
   ]
  },
  {
   "cell_type": "markdown",
   "metadata": {},
   "source": [
    "For accepted loans, there are more bad loans than good ones by a considerable margin. For rejected loans ,then there are more bad loans than good ones ones although the number of good loans is not much far behind"
   ]
  },
  {
   "cell_type": "markdown",
   "metadata": {},
   "source": [
    "Cumulative Distribution Function\n",
    "\n",
    "To determine the probability that a random observation that's taken from the population will be less than or equal to a certain value."
   ]
  },
  {
   "cell_type": "code",
   "execution_count": 116,
   "metadata": {},
   "outputs": [
    {
     "name": "stdout",
     "output_type": "stream",
     "text": [
      "[9.47332421e-01 4.44596443e-02 4.78796170e-03 2.73597811e-03\n",
      " 0.00000000e+00 0.00000000e+00 0.00000000e+00 0.00000000e+00\n",
      " 0.00000000e+00 6.83994528e-04]\n",
      "[   500.  19650.  38800.  57950.  77100.  96250. 115400. 134550. 153700.\n",
      " 172850. 192000.]\n",
      "[9.99256102e-01 2.47965905e-04 0.00000000e+00 0.00000000e+00\n",
      " 0.00000000e+00 0.00000000e+00 0.00000000e+00 0.00000000e+00\n",
      " 0.00000000e+00 4.95931809e-04]\n",
      "[5.000000e+01 2.760450e+05 5.520400e+05 8.280350e+05 1.104030e+06\n",
      " 1.380025e+06 1.656020e+06 1.932015e+06 2.208010e+06 2.484005e+06\n",
      " 2.760000e+06]\n"
     ]
    },
    {
     "data": {
      "image/png": "[encoded data removed]",
      "text/plain": [
       "<Figure size 432x288 with 1 Axes>"
      ]
     },
     "metadata": {},
     "output_type": "display_data"
    }
   ],
   "source": [
    "import numpy as np\n",
    "good_loans = data_train_overall.loc[data_train_overall[\"IsDefaulted\"] == 1];\n",
    "bad_loans = data_train_overall.loc[data_train_overall[\"IsDefaulted\"] == 0];\n",
    "\n",
    "counts, bin_edges = np.histogram(good_loans['AmountLoan'], bins=10, density=True)\n",
    "\n",
    "pdf = counts/(sum(counts))\n",
    "print(pdf);\n",
    "print(bin_edges)\n",
    "#compute CDF\n",
    "cdf = np.cumsum(pdf)\n",
    "plt.plot(bin_edges[1:], pdf, label='pdf good loans')\n",
    "plt.plot(bin_edges[1:], cdf, label='cdf good loans')\n",
    "\n",
    "counts, bin_edges = np.histogram(bad_loans['AmountLoan'], bins=10, density=True)\n",
    "\n",
    "pdf = counts/(sum(counts))\n",
    "print(pdf);\n",
    "print(bin_edges)\n",
    "#compute CDF\n",
    "cdf = np.cumsum(pdf)\n",
    "plt.plot(bin_edges[1:], pdf, label='pdf bad loans')\n",
    "plt.plot(bin_edges[1:], cdf, label='cdf bad loans')\n",
    "\n",
    "plt.legend();\n",
    "plt.show();\n"
   ]
  },
  {
   "cell_type": "markdown",
   "metadata": {},
   "source": [
    "The x-axis in the above graph represents the loan amount. The y-axis represents the probabilities for the same.\n",
    "\n",
    "Let's take the loan amount as 500 000. For 500 000 or less, we have approx 5% of bad loans with 95% of bad loans."
   ]
  },
  {
   "cell_type": "markdown",
   "metadata": {},
   "source": [
    "Feature selection and iterative imputation"
   ]
  },
  {
   "cell_type": "code",
   "execution_count": 118,
   "metadata": {},
   "outputs": [
    {
     "ename": "ValueError",
     "evalue": "Found input variables with inconsistent numbers of samples: [130512, 905]",
     "output_type": "error",
     "traceback": [
      "\u001b[1;31m---------------------------------------------------------------------------\u001b[0m",
      "\u001b[1;31mValueError\u001b[0m                                Traceback (most recent call last)",
      "\u001b[1;32m<ipython-input-118-5222377d884b>\u001b[0m in \u001b[0;36m<module>\u001b[1;34m\u001b[0m\n\u001b[0;32m     30\u001b[0m \u001b[0mcv\u001b[0m \u001b[1;33m=\u001b[0m \u001b[0mKFold\u001b[0m\u001b[1;33m(\u001b[0m\u001b[0mn_splits\u001b[0m\u001b[1;33m=\u001b[0m\u001b[1;36m10\u001b[0m\u001b[1;33m,\u001b[0m \u001b[0mshuffle\u001b[0m\u001b[1;33m=\u001b[0m\u001b[1;32mTrue\u001b[0m\u001b[1;33m,\u001b[0m \u001b[0mrandom_state\u001b[0m\u001b[1;33m=\u001b[0m\u001b[1;36m1\u001b[0m\u001b[1;33m)\u001b[0m\u001b[1;33m\u001b[0m\u001b[1;33m\u001b[0m\u001b[0m\n\u001b[0;32m     31\u001b[0m \u001b[1;31m# evaluate the pipeline using cross validation and calculate MAE\u001b[0m\u001b[1;33m\u001b[0m\u001b[1;33m\u001b[0m\u001b[1;33m\u001b[0m\u001b[0m\n\u001b[1;32m---> 32\u001b[1;33m \u001b[0mscores\u001b[0m \u001b[1;33m=\u001b[0m \u001b[0mcross_val_score\u001b[0m\u001b[1;33m(\u001b[0m\u001b[0mpipeline\u001b[0m\u001b[1;33m,\u001b[0m \u001b[0mdata_train_overall\u001b[0m\u001b[1;33m,\u001b[0m \u001b[0mdata_test\u001b[0m\u001b[1;33m,\u001b[0m \u001b[0mscoring\u001b[0m\u001b[1;33m=\u001b[0m\u001b[1;34m'neg_mean_absolute_error'\u001b[0m\u001b[1;33m,\u001b[0m \u001b[0mcv\u001b[0m\u001b[1;33m=\u001b[0m\u001b[0mcv\u001b[0m\u001b[1;33m,\u001b[0m \u001b[0mn_jobs\u001b[0m\u001b[1;33m=\u001b[0m\u001b[1;33m-\u001b[0m\u001b[1;36m1\u001b[0m\u001b[1;33m)\u001b[0m\u001b[1;33m\u001b[0m\u001b[1;33m\u001b[0m\u001b[0m\n\u001b[0m\u001b[0;32m     33\u001b[0m \u001b[1;31m# convert MAE scores to positive values\u001b[0m\u001b[1;33m\u001b[0m\u001b[1;33m\u001b[0m\u001b[1;33m\u001b[0m\u001b[0m\n\u001b[0;32m     34\u001b[0m \u001b[0mscores\u001b[0m \u001b[1;33m=\u001b[0m \u001b[0mabsolute\u001b[0m\u001b[1;33m(\u001b[0m\u001b[0mscores\u001b[0m\u001b[1;33m)\u001b[0m\u001b[1;33m\u001b[0m\u001b[1;33m\u001b[0m\u001b[0m\n",
      "\u001b[1;32m~\\Anaconda3\\envs\\tensorflow\\lib\\site-packages\\sklearn\\model_selection\\_validation.py\u001b[0m in \u001b[0;36mcross_val_score\u001b[1;34m(estimator, X, y, groups, scoring, cv, n_jobs, verbose, fit_params, pre_dispatch, error_score)\u001b[0m\n\u001b[0;32m    387\u001b[0m                                 \u001b[0mfit_params\u001b[0m\u001b[1;33m=\u001b[0m\u001b[0mfit_params\u001b[0m\u001b[1;33m,\u001b[0m\u001b[1;33m\u001b[0m\u001b[1;33m\u001b[0m\u001b[0m\n\u001b[0;32m    388\u001b[0m                                 \u001b[0mpre_dispatch\u001b[0m\u001b[1;33m=\u001b[0m\u001b[0mpre_dispatch\u001b[0m\u001b[1;33m,\u001b[0m\u001b[1;33m\u001b[0m\u001b[1;33m\u001b[0m\u001b[0m\n\u001b[1;32m--> 389\u001b[1;33m                                 error_score=error_score)\n\u001b[0m\u001b[0;32m    390\u001b[0m     \u001b[1;32mreturn\u001b[0m \u001b[0mcv_results\u001b[0m\u001b[1;33m[\u001b[0m\u001b[1;34m'test_score'\u001b[0m\u001b[1;33m]\u001b[0m\u001b[1;33m\u001b[0m\u001b[1;33m\u001b[0m\u001b[0m\n\u001b[0;32m    391\u001b[0m \u001b[1;33m\u001b[0m\u001b[0m\n",
      "\u001b[1;32m~\\Anaconda3\\envs\\tensorflow\\lib\\site-packages\\sklearn\\model_selection\\_validation.py\u001b[0m in \u001b[0;36mcross_validate\u001b[1;34m(estimator, X, y, groups, scoring, cv, n_jobs, verbose, fit_params, pre_dispatch, return_train_score, return_estimator, error_score)\u001b[0m\n\u001b[0;32m    214\u001b[0m \u001b[1;33m\u001b[0m\u001b[0m\n\u001b[0;32m    215\u001b[0m     \"\"\"\n\u001b[1;32m--> 216\u001b[1;33m     \u001b[0mX\u001b[0m\u001b[1;33m,\u001b[0m \u001b[0my\u001b[0m\u001b[1;33m,\u001b[0m \u001b[0mgroups\u001b[0m \u001b[1;33m=\u001b[0m \u001b[0mindexable\u001b[0m\u001b[1;33m(\u001b[0m\u001b[0mX\u001b[0m\u001b[1;33m,\u001b[0m \u001b[0my\u001b[0m\u001b[1;33m,\u001b[0m \u001b[0mgroups\u001b[0m\u001b[1;33m)\u001b[0m\u001b[1;33m\u001b[0m\u001b[1;33m\u001b[0m\u001b[0m\n\u001b[0m\u001b[0;32m    217\u001b[0m \u001b[1;33m\u001b[0m\u001b[0m\n\u001b[0;32m    218\u001b[0m     \u001b[0mcv\u001b[0m \u001b[1;33m=\u001b[0m \u001b[0mcheck_cv\u001b[0m\u001b[1;33m(\u001b[0m\u001b[0mcv\u001b[0m\u001b[1;33m,\u001b[0m \u001b[0my\u001b[0m\u001b[1;33m,\u001b[0m \u001b[0mclassifier\u001b[0m\u001b[1;33m=\u001b[0m\u001b[0mis_classifier\u001b[0m\u001b[1;33m(\u001b[0m\u001b[0mestimator\u001b[0m\u001b[1;33m)\u001b[0m\u001b[1;33m)\u001b[0m\u001b[1;33m\u001b[0m\u001b[1;33m\u001b[0m\u001b[0m\n",
      "\u001b[1;32m~\\Anaconda3\\envs\\tensorflow\\lib\\site-packages\\sklearn\\utils\\validation.py\u001b[0m in \u001b[0;36mindexable\u001b[1;34m(*iterables)\u001b[0m\n\u001b[0;32m    228\u001b[0m         \u001b[1;32melse\u001b[0m\u001b[1;33m:\u001b[0m\u001b[1;33m\u001b[0m\u001b[1;33m\u001b[0m\u001b[0m\n\u001b[0;32m    229\u001b[0m             \u001b[0mresult\u001b[0m\u001b[1;33m.\u001b[0m\u001b[0mappend\u001b[0m\u001b[1;33m(\u001b[0m\u001b[0mnp\u001b[0m\u001b[1;33m.\u001b[0m\u001b[0marray\u001b[0m\u001b[1;33m(\u001b[0m\u001b[0mX\u001b[0m\u001b[1;33m)\u001b[0m\u001b[1;33m)\u001b[0m\u001b[1;33m\u001b[0m\u001b[1;33m\u001b[0m\u001b[0m\n\u001b[1;32m--> 230\u001b[1;33m     \u001b[0mcheck_consistent_length\u001b[0m\u001b[1;33m(\u001b[0m\u001b[1;33m*\u001b[0m\u001b[0mresult\u001b[0m\u001b[1;33m)\u001b[0m\u001b[1;33m\u001b[0m\u001b[1;33m\u001b[0m\u001b[0m\n\u001b[0m\u001b[0;32m    231\u001b[0m     \u001b[1;32mreturn\u001b[0m \u001b[0mresult\u001b[0m\u001b[1;33m\u001b[0m\u001b[1;33m\u001b[0m\u001b[0m\n\u001b[0;32m    232\u001b[0m \u001b[1;33m\u001b[0m\u001b[0m\n",
      "\u001b[1;32m~\\Anaconda3\\envs\\tensorflow\\lib\\site-packages\\sklearn\\utils\\validation.py\u001b[0m in \u001b[0;36mcheck_consistent_length\u001b[1;34m(*arrays)\u001b[0m\n\u001b[0;32m    203\u001b[0m     \u001b[1;32mif\u001b[0m \u001b[0mlen\u001b[0m\u001b[1;33m(\u001b[0m\u001b[0muniques\u001b[0m\u001b[1;33m)\u001b[0m \u001b[1;33m>\u001b[0m \u001b[1;36m1\u001b[0m\u001b[1;33m:\u001b[0m\u001b[1;33m\u001b[0m\u001b[1;33m\u001b[0m\u001b[0m\n\u001b[0;32m    204\u001b[0m         raise ValueError(\"Found input variables with inconsistent numbers of\"\n\u001b[1;32m--> 205\u001b[1;33m                          \" samples: %r\" % [int(l) for l in lengths])\n\u001b[0m\u001b[0;32m    206\u001b[0m \u001b[1;33m\u001b[0m\u001b[0m\n\u001b[0;32m    207\u001b[0m \u001b[1;33m\u001b[0m\u001b[0m\n",
      "\u001b[1;31mValueError\u001b[0m: Found input variables with inconsistent numbers of samples: [130512, 905]"
     ]
    }
   ],
   "source": [
    "# example of using the ColumnTransformer for the Abalone dataset\n",
    "from numpy import mean\n",
    "from numpy import std\n",
    "from numpy import absolute\n",
    "from pandas import read_csv\n",
    "from sklearn.model_selection import cross_val_score\n",
    "from sklearn.model_selection import KFold\n",
    "from sklearn.compose import ColumnTransformer\n",
    "from sklearn.pipeline import Pipeline\n",
    "from sklearn.preprocessing import OneHotEncoder\n",
    "from sklearn.preprocessing import MinMaxScaler\n",
    "from sklearn.svm import SVR\n",
    "# load dataset\n",
    "#dataframe = read_csv('abalone.csv', header=None)\n",
    "# split into inputs and outputs\n",
    "last_ix = len(data_train_overall.columns) - 1\n",
    "X, y = data_train_overall.drop(last_ix, axis=1), data_train_overall[last_ix]\n",
    "#print(X.shape, y.shape)\n",
    "# determine categorical and numerical features\n",
    "numerical_ix = X.select_dtypes(include=['int64', 'float64']).columns\n",
    "categorical_ix = X.select_dtypes(include=['object', 'bool']).columns\n",
    "# define the data preparation for the columns\n",
    "t = [('cat', OneHotEncoder(), categorical_ix), ('num', MinMaxScaler(), numerical_ix)]\n",
    "col_transform = ColumnTransformer(transformers=t)\n",
    "# define the model\n",
    "model = SVR(kernel='rbf',gamma='scale',C=100)\n",
    "# define the data preparation and modeling pipeline\n",
    "pipeline = Pipeline(steps=[('prep',col_transform), ('m', model)])\n",
    "# define the model cross-validation configuration\n",
    "cv = KFold(n_splits=10, shuffle=True, random_state=1)\n",
    "# evaluate the pipeline using cross validation and calculate MAE\n",
    "scores = cross_val_score(pipeline, X, y, scoring='neg_mean_absolute_error', cv=cv, n_jobs=-1)\n",
    "# convert MAE scores to positive values\n",
    "scores = absolute(scores)\n",
    "# summarize the model performance\n",
    "print('MAE: %.3f (%.3f)' % (mean(scores), std(scores)))"
   ]
  },
  {
   "cell_type": "code",
   "execution_count": null,
   "metadata": {},
   "outputs": [],
   "source": []
  },
  {
   "cell_type": "markdown",
   "metadata": {},
   "source": [
    "Final model"
   ]
  },
  {
   "cell_type": "code",
   "execution_count": null,
   "metadata": {},
   "outputs": [],
   "source": [
    "\n",
    "import numpy\n",
    "from pandas import read_csv\n",
    "from keras.models import Sequential\n",
    "from keras.layers import Dense\n",
    "from keras.layers import Dropout\n",
    "from keras.wrappers.scikit_learn import KerasRegressor\n",
    "from sklearn.model_selection import cross_val_score\n",
    "from sklearn.model_selection import KFold\n",
    "from sklearn.preprocessing import StandardScaler\n",
    "from sklearn.pipeline import Pipeline\n",
    "from keras.callbacks import ModelCheckpoint\n",
    "from keras.wrappers.scikit_learn import KerasClassifier\n",
    "from keras.constraints import maxnorm\n",
    "from keras.optimizers import SGD\n",
    "from sklearn.preprocessing import LabelEncoder\n",
    "from sklearn.model_selection import StratifiedKFold\n",
    "\n",
    "dataframe = data_test\n",
    "#dataframe['IsDefaulted'] = mean_sales\n",
    "dataset = dataframe.values\n",
    "#dataset = dataframe\n",
    "\n",
    "\n",
    "# split into input and output variables\n",
    "X = dataset[:,0:-3]\n",
    "Y = dataset[:,-3]\n",
    "\n",
    "# encode class values as integers\n",
    "encoder = LabelEncoder()\n",
    "encoder.fit(Y)\n",
    "\n",
    "encoded_Y = encoder.transform(Y)\n",
    "\n",
    "# define base model\n",
    "# dropout in hidden layers with weight constraint\n",
    "#def create_model():\n",
    "    \n",
    "    # create model\n",
    "model = Sequential()\n",
    "model.add(Dense(12, input_dim=3, kernel_initializer='normal', activation='relu', kernel_constraint=maxnorm(2)))\n",
    "model.add(Dropout(0.15))\n",
    "model.add(Dense(8, kernel_initializer='normal', activation='relu', kernel_constraint=maxnorm(3)))\n",
    "model.add(Dropout(0.15))\n",
    "#model.add(Dense(1, kernel_initializer='normal', activation='sigmoid'))\n",
    "model.add(Dense(1, kernel_initializer='normal', activation='tanh'))\n",
    "    # Compile model\n",
    "sgd = SGD(lr=0.1, momentum=0.7, decay=0.0, nesterov=False)\n",
    "    #model.compile(loss='binary_crossentropy', optimizer=sgd, metrics=['accuracy'])\n",
    "    #mean_squared_error\n",
    "    #mean_absolute_error\n",
    "    #hinge\n",
    "    #squared_hinge\n",
    "    #mean_squared_logarithmic_error\n",
    "model.compile(loss='hinge', optimizer=sgd, metrics=['accuracy'])\n",
    "#return model\n",
    "\n",
    "numpy.random.seed(seed)\n",
    "estimators = []\n",
    "estimators.append(('standardize', StandardScaler()))\n",
    "estimators.append(('mlp', KerasClassifier(build_fn=create_model, epochs=30, batch_size=16, verbose=1)))\n",
    "pipeline = Pipeline(estimators)\n",
    "kfold = StratifiedKFold(n_splits=10, shuffle=True, random_state=seed)\n",
    "\n",
    "# checkpoint\n",
    "filepath=\"weights-improvement-{epoch:02d}-{val_acc:.2f}.hdf5\"\n",
    "checkpoint = ModelCheckpoint(filepath, monitor='val_acc', verbose=0, save_best_only=True, mode='max')\n",
    "callbacks_list = [checkpoint]\n",
    "\n",
    "\n",
    "#history1 = cross_val_score(pipeline, X, encoded_Y, cv=kfold)\n",
    "#print(\"Hidden: %.2f%% (%.2f%%)\" % (history1.mean()*100, history1.std()*100))\n",
    "\n",
    "# Fit the model\n",
    "#model.fit(X, encoded_Y, validation_split=0.4, epochs=100, batch_size=592, verbose=0)\n",
    "history = model.fit(X, encoded_Y, validation_split=0.4, epochs=300, verbose=0, batch_size=80, callbacks=callbacks_list)\n",
    "\n",
    "# evaluate the model\n",
    "#scores = model.evaluate(Xnew, encoded_Y[1450:2900])\n",
    "\n",
    "\n",
    "# list all data in history\n",
    "#print(history.history.keys())\n",
    "\n",
    "# summarize history for accuracy\n",
    "plt.plot(history.history['acc'])\n",
    "plt.plot(history.history['val_acc'])\n",
    "plt.title('model accuracy')\n",
    "plt.ylabel('accuracy')\n",
    "plt.xlabel('epoch')\n",
    "plt.legend(['train', 'test'], loc='upper left')\n",
    "plt.show()\n",
    "\n",
    "# summarize history for loss\n",
    "plt.plot(history.history['loss'])\n",
    "plt.plot(history.history['val_loss'])\n",
    "plt.title('model loss')\n",
    "plt.ylabel('loss')\n",
    "plt.xlabel('epoch')\n",
    "plt.legend(['train', 'test'], loc='upper left')\n",
    "plt.show()\n",
    "\n",
    "# make a prediction\n",
    "Xnew = data_test\n",
    "ynew = model.predict(Xnew)\n",
    "# show the inputs and predicted outputs\n",
    "unique, counts = numpy.unique(ynew, return_counts=True)\n",
    "print(dict(zip(unique, counts)) )\n",
    "#scores = model.evaluate(Xnew, encoded_Y)\n",
    "#print(\"\\n%s: %.2f%%\" % (model.metrics_names[1], scores[1]*100))\n"
   ]
  },
  {
   "attachments": {
    "image.png": {
     "image/png": "[encoded data removed]"
    }
   },
   "cell_type": "markdown",
   "metadata": {},
   "source": [
    "Business questions\n",
    "\n",
    "● What would be your recommendation to the client based on your analysis?\n",
    "Here we can see that for most defaulted loans, most of the funds was spent for airtime, data followed by TV and utility bills. Logically, the loan has more chance to not default if the funds are spent on something that can grow the money or give a retun. Based on this, i would recommend the client to grant loan to individuals with steady income or individuals that are planning to put the funds into something profitable.\n",
    "● Please provide 1 relevant & interesting visualization and describe it to the\n",
    "client\n",
    "![image.png](attachment:image.png)\n",
    "For accepted loans, there are more bad loans than good ones by a considerable margin. For rejected loans ,then there are more bad loans than good ones ones although the number of good loans is not much far behind\n",
    "● If you were allowed to use external data what kind of data would you think of?\n",
    "How do you think it would impact your predictions?\n",
    "Personnal and finnacial data on didviduals applying for lloans can provide more details into why a loan default, It would definitely improve the accuracy of the model\n",
    "● What would have been your next steps if you had more time? \n",
    "I would spend more time on multivariate analysis to explore and gather more insughts from the data. I would also explore different data cleaning, feature section and dimensionality techniques to improve the model accuracy\n",
    "● Do you have any comments / feedback about the assessment?\n",
    "It is a good assessment just that so much data is missing"
   ]
  }
 ],
 "metadata": {
  "kernelspec": {
   "display_name": "Python 3.6 (tensorflow)",
   "language": "python",
   "name": "tensorflow"
  },
  "language_info": {
   "codemirror_mode": {
    "name": "ipython",
    "version": 3
   },
   "file_extension": ".py",
   "mimetype": "text/x-python",
   "name": "python",
   "nbconvert_exporter": "python",
   "pygments_lexer": "ipython3",
   "version": "3.6.8"
  }
 },
 "nbformat": 4,
 "nbformat_minor": 2
}
